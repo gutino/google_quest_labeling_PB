{
 "cells": [
  {
   "cell_type": "code",
   "execution_count": null,
   "metadata": {
    "ExecuteTime": {
     "end_time": "2020-02-01T02:22:36.126645Z",
     "start_time": "2020-02-01T02:22:35.464373Z"
    }
   },
   "outputs": [],
   "source": [
    "import functions as func\n",
    "import pandas as pd\n",
    "import numpy as np\n",
    "import gensim\n",
    "import re\n",
    "\n",
    "from nltk.tokenize import word_tokenize\n",
    "from sklearn.feature_extraction.text import TfidfVectorizer\n",
    "from sklearn.model_selection import train_test_split\n",
    "\n",
    "from collections import defaultdict\n",
    "from tqdm import tqdm\n",
    "\n",
    "import warnings\n",
    "warnings.filterwarnings(\"ignore\")\n",
    "\n",
    "%load_ext autoreload\n",
    "%autoreload 2"
   ]
  },
  {
   "cell_type": "markdown",
   "metadata": {},
   "source": [
    "# Preprocessing"
   ]
  },
  {
   "cell_type": "code",
   "execution_count": null,
   "metadata": {
    "ExecuteTime": {
     "end_time": "2020-02-01T02:22:36.274307Z",
     "start_time": "2020-02-01T02:22:36.128061Z"
    }
   },
   "outputs": [],
   "source": [
    "# Um diretorio que contém todos os datasets\n",
    "path = 'data'\n",
    "\n",
    "df_dict = func.readCSV_DATA(path)"
   ]
  },
  {
   "cell_type": "code",
   "execution_count": null,
   "metadata": {
    "ExecuteTime": {
     "end_time": "2020-02-01T02:22:36.288100Z",
     "start_time": "2020-02-01T02:22:36.275394Z"
    }
   },
   "outputs": [],
   "source": [
    "df_train = df_dict['train.csv']"
   ]
  },
  {
   "cell_type": "code",
   "execution_count": null,
   "metadata": {
    "ExecuteTime": {
     "end_time": "2020-02-01T02:22:36.460114Z",
     "start_time": "2020-02-01T02:22:36.289165Z"
    }
   },
   "outputs": [],
   "source": [
    "df_train.head()"
   ]
  },
  {
   "cell_type": "code",
   "execution_count": null,
   "metadata": {
    "ExecuteTime": {
     "end_time": "2020-02-01T02:22:36.566337Z",
     "start_time": "2020-02-01T02:22:36.461326Z"
    }
   },
   "outputs": [],
   "source": [
    "question_lst = []\n",
    "answer_lst = []\n",
    "\n",
    "for column in df_train.columns[11:]:\n",
    "    match = re.match('([a-z]*)_', column)\n",
    "    if match.group(1) == 'question':\n",
    "        question_lst.append(column)\n",
    "    else:\n",
    "        answer_lst.append(column)"
   ]
  },
  {
   "cell_type": "code",
   "execution_count": null,
   "metadata": {
    "ExecuteTime": {
     "end_time": "2020-02-01T02:22:37.508188Z",
     "start_time": "2020-02-01T02:22:36.571175Z"
    }
   },
   "outputs": [],
   "source": [
    "df_train = func.prepareData(df_train)"
   ]
  },
  {
   "cell_type": "markdown",
   "metadata": {},
   "source": [
    "# Training word2vec"
   ]
  },
  {
   "cell_type": "code",
   "execution_count": null,
   "metadata": {
    "ExecuteTime": {
     "end_time": "2020-02-01T02:22:47.653739Z",
     "start_time": "2020-02-01T02:22:37.510508Z"
    }
   },
   "outputs": [],
   "source": [
    "corpus = [word_tokenize(i) for i in df_train.text_all_clean]"
   ]
  },
  {
   "cell_type": "code",
   "execution_count": null,
   "metadata": {
    "ExecuteTime": {
     "end_time": "2020-02-01T02:22:52.247777Z",
     "start_time": "2020-02-01T02:22:47.655225Z"
    }
   },
   "outputs": [],
   "source": [
    "model = gensim.models.Word2Vec(corpus,\n",
    "                               size=150,\n",
    "                               window=5,\n",
    "                               min_count=2,\n",
    "                               workers=10)"
   ]
  },
  {
   "cell_type": "code",
   "execution_count": null,
   "metadata": {
    "ExecuteTime": {
     "end_time": "2020-02-01T02:22:52.325612Z",
     "start_time": "2020-02-01T02:22:52.249254Z"
    }
   },
   "outputs": [],
   "source": [
    "vocab = defaultdict(lambda : np.zeros(150))\n",
    "for w in tqdm(list(model.wv.vocab.keys())):\n",
    "    vocab[w] = model.wv[w]"
   ]
  },
  {
   "cell_type": "code",
   "execution_count": null,
   "metadata": {
    "ExecuteTime": {
     "end_time": "2020-02-01T02:28:21.406027Z",
     "start_time": "2020-02-01T02:28:15.877291Z"
    }
   },
   "outputs": [],
   "source": [
    "vec_docs = [[] for i in range(df_train.shape[0])]\n",
    "\n",
    "for i, question_text in tqdm(enumerate(df_train.question_text_clean), total=df_train.shape[0]):\n",
    "    for word in word_tokenize(question_text):\n",
    "        vec_docs[i].append(vocab[word])"
   ]
  }
 ],
 "metadata": {
  "kernelspec": {
   "display_name": "Python [conda env:parquinho] *",
   "language": "python",
   "name": "conda-env-parquinho-py"
  },
  "language_info": {
   "codemirror_mode": {
    "name": "ipython",
    "version": 3
   },
   "file_extension": ".py",
   "mimetype": "text/x-python",
   "name": "python",
   "nbconvert_exporter": "python",
   "pygments_lexer": "ipython3",
   "version": "3.7.6"
  },
  "varInspector": {
   "cols": {
    "lenName": 16,
    "lenType": 16,
    "lenVar": 40
   },
   "kernels_config": {
    "python": {
     "delete_cmd_postfix": "",
     "delete_cmd_prefix": "del ",
     "library": "var_list.py",
     "varRefreshCmd": "print(var_dic_list())"
    },
    "r": {
     "delete_cmd_postfix": ") ",
     "delete_cmd_prefix": "rm(",
     "library": "var_list.r",
     "varRefreshCmd": "cat(var_dic_list()) "
    }
   },
   "types_to_exclude": [
    "module",
    "function",
    "builtin_function_or_method",
    "instance",
    "_Feature"
   ],
   "window_display": false
  }
 },
 "nbformat": 4,
 "nbformat_minor": 2
}
