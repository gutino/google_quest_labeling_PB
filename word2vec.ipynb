{
 "cells": [
  {
   "cell_type": "code",
   "execution_count": null,
   "metadata": {
    "ExecuteTime": {
     "end_time": "2020-02-01T19:34:03.996460Z",
     "start_time": "2020-02-01T19:34:02.656233Z"
    }
   },
   "outputs": [],
   "source": [
    "import functions as func\n",
    "import pandas as pd\n",
    "import numpy as np\n",
    "import gensim\n",
    "import re\n",
    "\n",
    "from nltk.tokenize import word_tokenize\n",
    "from sklearn.model_selection import train_test_split\n",
    "\n",
    "from collections import defaultdict\n",
    "from tqdm import tqdm\n",
    "\n",
    "import warnings\n",
    "warnings.filterwarnings(\"ignore\")\n",
    "\n",
    "%load_ext autoreload\n",
    "%autoreload 2"
   ]
  },
  {
   "cell_type": "markdown",
   "metadata": {},
   "source": [
    "# Preprocessing"
   ]
  },
  {
   "cell_type": "code",
   "execution_count": null,
   "metadata": {
    "ExecuteTime": {
     "end_time": "2020-02-01T19:34:04.362527Z",
     "start_time": "2020-02-01T19:34:04.196791Z"
    }
   },
   "outputs": [],
   "source": [
    "# Um diretorio que contém todos os datasets\n",
    "path = 'data'\n",
    "\n",
    "df_dict = func.readCSV_DATA(path)"
   ]
  },
  {
   "cell_type": "code",
   "execution_count": null,
   "metadata": {
    "ExecuteTime": {
     "end_time": "2020-02-01T19:34:05.009376Z",
     "start_time": "2020-02-01T19:34:04.986077Z"
    }
   },
   "outputs": [],
   "source": [
    "df_train = df_dict['train.csv']"
   ]
  },
  {
   "cell_type": "code",
   "execution_count": null,
   "metadata": {
    "ExecuteTime": {
     "end_time": "2020-02-01T19:34:05.817200Z",
     "start_time": "2020-02-01T19:34:05.778078Z"
    }
   },
   "outputs": [],
   "source": [
    "df_train.head()"
   ]
  },
  {
   "cell_type": "code",
   "execution_count": null,
   "metadata": {
    "ExecuteTime": {
     "end_time": "2020-02-01T19:34:06.594331Z",
     "start_time": "2020-02-01T19:34:06.571324Z"
    }
   },
   "outputs": [],
   "source": [
    "question_lst = []\n",
    "answer_lst = []\n",
    "\n",
    "for column in df_train.columns[11:]:\n",
    "    match = re.match('([a-z]*)_', column)\n",
    "    if match.group(1) == 'question':\n",
    "        question_lst.append(column)\n",
    "    else:\n",
    "        answer_lst.append(column)"
   ]
  },
  {
   "cell_type": "code",
   "execution_count": null,
   "metadata": {
    "ExecuteTime": {
     "end_time": "2020-02-01T19:34:08.196250Z",
     "start_time": "2020-02-01T19:34:07.356378Z"
    }
   },
   "outputs": [],
   "source": [
    "df_train = func.prepareData(df_train)"
   ]
  },
  {
   "cell_type": "markdown",
   "metadata": {},
   "source": [
    "# Training word2vec"
   ]
  },
  {
   "cell_type": "code",
   "execution_count": null,
   "metadata": {
    "ExecuteTime": {
     "end_time": "2020-02-01T19:34:19.112024Z",
     "start_time": "2020-02-01T19:34:09.042534Z"
    }
   },
   "outputs": [],
   "source": [
    "corpus = [word_tokenize(i) for i in df_train.text_all_clean]"
   ]
  },
  {
   "cell_type": "code",
   "execution_count": null,
   "metadata": {
    "ExecuteTime": {
     "end_time": "2020-02-01T18:29:30.694025Z",
     "start_time": "2020-02-01T18:29:24.704325Z"
    },
    "deletable": false,
    "editable": false,
    "run_control": {
     "frozen": true
    }
   },
   "outputs": [],
   "source": [
    "embed_dim = 150\n",
    "\n",
    "model = gensim.models.Word2Vec(corpus,\n",
    "                               size=embed_dim,\n",
    "                               window=5,\n",
    "                               min_count=2,\n",
    "                               workers=10)\n",
    "\n",
    "model.save(\"word2vec.model\")"
   ]
  },
  {
   "cell_type": "code",
   "execution_count": null,
   "metadata": {
    "ExecuteTime": {
     "end_time": "2020-02-01T19:47:07.531428Z",
     "start_time": "2020-02-01T19:47:07.043811Z"
    }
   },
   "outputs": [],
   "source": [
    "model = gensim.models.Word2Vec.load(\"word2vec.model\")"
   ]
  },
  {
   "cell_type": "code",
   "execution_count": null,
   "metadata": {
    "ExecuteTime": {
     "end_time": "2020-02-01T19:47:10.219211Z",
     "start_time": "2020-02-01T19:47:10.146066Z"
    }
   },
   "outputs": [],
   "source": [
    "vocab = defaultdict(lambda : np.zeros(150))\n",
    "for w in tqdm(list(model.wv.vocab.keys())):\n",
    "    vocab[w] = model.wv[w]"
   ]
  },
  {
   "cell_type": "markdown",
   "metadata": {},
   "source": [
    "## Using as input for model"
   ]
  },
  {
   "cell_type": "code",
   "execution_count": null,
   "metadata": {
    "ExecuteTime": {
     "end_time": "2020-02-01T19:41:42.185453Z",
     "start_time": "2020-02-01T19:41:36.098615Z"
    }
   },
   "outputs": [],
   "source": [
    "question_X = func.word2vec_vectorizer(df_train.question_text_clean, word_tokenize, vocab)"
   ]
  },
  {
   "cell_type": "code",
   "execution_count": null,
   "metadata": {
    "ExecuteTime": {
     "end_time": "2020-02-01T19:45:54.065746Z",
     "start_time": "2020-02-01T19:45:48.267661Z"
    }
   },
   "outputs": [],
   "source": [
    "answer_X = func.word2vec_vectorizer(df_train.answer_text_clean, word_tokenize, vocab)"
   ]
  },
  {
   "cell_type": "code",
   "execution_count": null,
   "metadata": {
    "ExecuteTime": {
     "end_time": "2020-02-01T19:46:03.405217Z",
     "start_time": "2020-02-01T19:46:03.362416Z"
    }
   },
   "outputs": [],
   "source": [
    "question_y = df_train[question_lst]\n",
    "answer_y = df_train[answer_lst]"
   ]
  },
  {
   "cell_type": "code",
   "execution_count": null,
   "metadata": {
    "ExecuteTime": {
     "end_time": "2020-02-01T19:46:05.528147Z",
     "start_time": "2020-02-01T19:46:05.499783Z"
    }
   },
   "outputs": [],
   "source": [
    "X_train_question, X_test_question, y_train_question, y_test_question = train_test_split(\n",
    "    question_X, question_y, test_size=0.2)\n",
    "\n",
    "X_train_answer, X_test_answer, y_train_answer, y_test_answer = train_test_split(\n",
    "    answer_X, answer_y, test_size=0.2)"
   ]
  },
  {
   "cell_type": "markdown",
   "metadata": {},
   "source": [
    "## Training answer model"
   ]
  },
  {
   "cell_type": "code",
   "execution_count": null,
   "metadata": {
    "ExecuteTime": {
     "end_time": "2020-02-01T19:46:19.135214Z",
     "start_time": "2020-02-01T19:46:07.974291Z"
    },
    "scrolled": true
   },
   "outputs": [],
   "source": [
    "output_dim = len(answer_lst)\n",
    "input_dim = 150\n",
    "\n",
    "answer_model = func.create_model(output_dim, input_dim, 'binary_crossentropy')\n",
    "\n",
    "answer_model = func.train_model(answer_model, X_train_answer, y_train_answer, X_test_answer,\n",
    "                                y_test_answer, batch_size=128, nb_epoch=140, verbose=0)"
   ]
  },
  {
   "cell_type": "code",
   "execution_count": null,
   "metadata": {
    "ExecuteTime": {
     "end_time": "2020-02-01T19:46:21.741745Z",
     "start_time": "2020-02-01T19:46:21.572282Z"
    }
   },
   "outputs": [],
   "source": [
    "func.spearman_corr(y_train_answer, answer_model.predict(X_train_answer))"
   ]
  },
  {
   "cell_type": "code",
   "execution_count": null,
   "metadata": {
    "ExecuteTime": {
     "end_time": "2020-02-01T19:46:24.242320Z",
     "start_time": "2020-02-01T19:46:24.153362Z"
    },
    "scrolled": true
   },
   "outputs": [],
   "source": [
    "func.spearman_corr(y_test_answer, answer_model.predict(X_test_answer))"
   ]
  },
  {
   "cell_type": "markdown",
   "metadata": {},
   "source": [
    "## Training question model"
   ]
  },
  {
   "cell_type": "code",
   "execution_count": null,
   "metadata": {
    "ExecuteTime": {
     "end_time": "2020-02-01T19:46:34.874445Z",
     "start_time": "2020-02-01T19:46:26.733182Z"
    },
    "scrolled": true
   },
   "outputs": [],
   "source": [
    "output_dim = len(question_lst)\n",
    "\n",
    "question_model = func.create_model(output_dim, input_dim, 'binary_crossentropy')\n",
    "\n",
    "question_model = func.train_model(question_model, X_train_question, y_train_question,\n",
    "                                  X_test_question, y_test_question, batch_size=128, nb_epoch=100, verbose=1)"
   ]
  },
  {
   "cell_type": "code",
   "execution_count": null,
   "metadata": {
    "ExecuteTime": {
     "end_time": "2020-02-01T19:46:37.471714Z",
     "start_time": "2020-02-01T19:46:37.298469Z"
    }
   },
   "outputs": [],
   "source": [
    "func.spearman_corr(y_train_question, question_model.predict(X_train_question))"
   ]
  },
  {
   "cell_type": "code",
   "execution_count": null,
   "metadata": {
    "ExecuteTime": {
     "end_time": "2020-02-01T19:46:40.012207Z",
     "start_time": "2020-02-01T19:46:39.915035Z"
    }
   },
   "outputs": [],
   "source": [
    "func.spearman_corr(y_test_question, question_model.predict(X_test_question))"
   ]
  },
  {
   "cell_type": "markdown",
   "metadata": {},
   "source": [
    "## Submission"
   ]
  },
  {
   "cell_type": "code",
   "execution_count": null,
   "metadata": {
    "ExecuteTime": {
     "end_time": "2020-02-01T19:46:49.675775Z",
     "start_time": "2020-02-01T19:46:49.578531Z"
    }
   },
   "outputs": [],
   "source": [
    "df_test = func.prepareData(df_dict['test.csv'])"
   ]
  },
  {
   "cell_type": "code",
   "execution_count": null,
   "metadata": {
    "ExecuteTime": {
     "end_time": "2020-02-01T19:47:34.580725Z",
     "start_time": "2020-02-01T19:47:34.075342Z"
    }
   },
   "outputs": [],
   "source": [
    "question_X = func.word2vec_vectorizer(df_test.question_text_clean, word_tokenize, vocab)"
   ]
  },
  {
   "cell_type": "code",
   "execution_count": null,
   "metadata": {
    "ExecuteTime": {
     "end_time": "2020-02-01T19:47:45.467572Z",
     "start_time": "2020-02-01T19:47:44.954416Z"
    }
   },
   "outputs": [],
   "source": [
    "answer_X = func.word2vec_vectorizer(df_test.answer_text_clean, word_tokenize, vocab)"
   ]
  },
  {
   "cell_type": "code",
   "execution_count": null,
   "metadata": {
    "ExecuteTime": {
     "end_time": "2020-02-01T19:47:55.618938Z",
     "start_time": "2020-02-01T19:47:55.506022Z"
    }
   },
   "outputs": [],
   "source": [
    "sub = func.make_submission_df(df_dict['sample_submission.csv'], question_X, answer_X,\n",
    "                         question_model, answer_model)"
   ]
  },
  {
   "cell_type": "code",
   "execution_count": null,
   "metadata": {
    "ExecuteTime": {
     "end_time": "2020-02-01T19:48:07.082096Z",
     "start_time": "2020-02-01T19:48:07.009245Z"
    }
   },
   "outputs": [],
   "source": [
    "sub"
   ]
  },
  {
   "cell_type": "code",
   "execution_count": null,
   "metadata": {},
   "outputs": [],
   "source": []
  }
 ],
 "metadata": {
  "kernelspec": {
   "display_name": "Python [conda env:parquinho] *",
   "language": "python",
   "name": "conda-env-parquinho-py"
  },
  "language_info": {
   "codemirror_mode": {
    "name": "ipython",
    "version": 3
   },
   "file_extension": ".py",
   "mimetype": "text/x-python",
   "name": "python",
   "nbconvert_exporter": "python",
   "pygments_lexer": "ipython3",
   "version": "3.7.6"
  },
  "varInspector": {
   "cols": {
    "lenName": 16,
    "lenType": 16,
    "lenVar": 40
   },
   "kernels_config": {
    "python": {
     "delete_cmd_postfix": "",
     "delete_cmd_prefix": "del ",
     "library": "var_list.py",
     "varRefreshCmd": "print(var_dic_list())"
    },
    "r": {
     "delete_cmd_postfix": ") ",
     "delete_cmd_prefix": "rm(",
     "library": "var_list.r",
     "varRefreshCmd": "cat(var_dic_list()) "
    }
   },
   "types_to_exclude": [
    "module",
    "function",
    "builtin_function_or_method",
    "instance",
    "_Feature"
   ],
   "window_display": false
  }
 },
 "nbformat": 4,
 "nbformat_minor": 2
}
