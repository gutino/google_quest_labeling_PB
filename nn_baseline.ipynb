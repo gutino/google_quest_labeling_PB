{
 "cells": [
  {
   "cell_type": "code",
   "execution_count": null,
   "metadata": {
    "ExecuteTime": {
     "end_time": "2020-01-30T02:34:58.146751Z",
     "start_time": "2020-01-30T02:34:57.101733Z"
    }
   },
   "outputs": [],
   "source": [
    "import functions as func\n",
    "import pandas as pd\n",
    "import numpy as np\n",
    "import re\n",
    "\n",
    "import warnings\n",
    "warnings.filterwarnings(\"ignore\")\n",
    "\n",
    "%load_ext autoreload\n",
    "%autoreload 2"
   ]
  },
  {
   "cell_type": "markdown",
   "metadata": {},
   "source": [
    "# Preprocessing"
   ]
  },
  {
   "cell_type": "code",
   "execution_count": null,
   "metadata": {
    "ExecuteTime": {
     "end_time": "2020-01-30T02:35:00.893300Z",
     "start_time": "2020-01-30T02:35:00.719870Z"
    }
   },
   "outputs": [],
   "source": [
    "# Um diretorio que contém todos os datasets\n",
    "path = 'data'\n",
    "\n",
    "df_dict = func.readCSV_DATA(path)"
   ]
  },
  {
   "cell_type": "code",
   "execution_count": null,
   "metadata": {
    "ExecuteTime": {
     "end_time": "2020-01-30T02:35:03.149676Z",
     "start_time": "2020-01-30T02:35:03.127675Z"
    }
   },
   "outputs": [],
   "source": [
    "df_train = df_dict['train.csv']"
   ]
  },
  {
   "cell_type": "code",
   "execution_count": null,
   "metadata": {
    "ExecuteTime": {
     "end_time": "2020-01-30T02:35:05.869074Z",
     "start_time": "2020-01-30T02:35:05.859159Z"
    }
   },
   "outputs": [],
   "source": [
    "question_lst = []\n",
    "answer_lst = []\n",
    "\n",
    "for column in df_train.columns[11:]:\n",
    "    match = re.match('([a-z]*)_', column)\n",
    "    if match.group(1) == 'question':\n",
    "        question_lst.append(column)\n",
    "    else:\n",
    "        answer_lst.append(column)"
   ]
  },
  {
   "cell_type": "code",
   "execution_count": null,
   "metadata": {
    "ExecuteTime": {
     "end_time": "2020-01-30T02:35:08.522086Z",
     "start_time": "2020-01-30T02:35:08.094413Z"
    }
   },
   "outputs": [],
   "source": [
    "df_train = func.prepareData(df_train)"
   ]
  },
  {
   "cell_type": "markdown",
   "metadata": {},
   "source": [
    "# Extracting simple text features"
   ]
  },
  {
   "cell_type": "code",
   "execution_count": null,
   "metadata": {
    "ExecuteTime": {
     "end_time": "2020-01-30T02:35:13.492667Z",
     "start_time": "2020-01-30T02:35:11.036443Z"
    }
   },
   "outputs": [],
   "source": [
    "from nltk.tokenize import word_tokenize\n",
    "from sklearn.feature_extraction.text import TfidfVectorizer\n",
    "from sklearn.model_selection import train_test_split"
   ]
  },
  {
   "cell_type": "code",
   "execution_count": null,
   "metadata": {
    "ExecuteTime": {
     "end_time": "2020-01-30T02:35:40.247767Z",
     "start_time": "2020-01-30T02:35:34.510229Z"
    }
   },
   "outputs": [],
   "source": [
    "%%time\n",
    "question_vectorizer = TfidfVectorizer(tokenizer=word_tokenize,\n",
    "                                      strip_accents='ascii',\n",
    "                                      stop_words='english',\n",
    "                                      min_df=3,\n",
    "                                      max_df=int(df_train.shape[0]/30))\n",
    "\n",
    "question_X = question_vectorizer.fit_transform(df_train['question_text_clean'])"
   ]
  },
  {
   "cell_type": "code",
   "execution_count": null,
   "metadata": {
    "ExecuteTime": {
     "end_time": "2020-01-30T02:35:46.326148Z",
     "start_time": "2020-01-30T02:35:40.952896Z"
    }
   },
   "outputs": [],
   "source": [
    "%%time\n",
    "answer_vectorizer = TfidfVectorizer(tokenizer=word_tokenize,\n",
    "                                    strip_accents='ascii',\n",
    "                                    stop_words='english',\n",
    "                                    min_df=3,\n",
    "                                    max_df=int(df_train.shape[0]/30))\n",
    "answer_X = answer_vectorizer.fit_transform(df_train['answer_text_clean'])"
   ]
  },
  {
   "cell_type": "code",
   "execution_count": null,
   "metadata": {
    "ExecuteTime": {
     "end_time": "2020-01-30T02:35:47.043090Z",
     "start_time": "2020-01-30T02:35:47.028411Z"
    }
   },
   "outputs": [],
   "source": [
    "question_y = df_train[question_lst]\n",
    "answer_y = df_train[answer_lst]"
   ]
  },
  {
   "cell_type": "code",
   "execution_count": null,
   "metadata": {
    "ExecuteTime": {
     "end_time": "2020-01-30T02:35:47.901735Z",
     "start_time": "2020-01-30T02:35:47.886319Z"
    }
   },
   "outputs": [],
   "source": [
    "X_train_question, X_test_question, y_train_question, y_test_question = train_test_split(\n",
    "    question_X, question_y, test_size=0.2)\n",
    "\n",
    "X_train_answer, X_test_answer, y_train_answer, y_test_answer = train_test_split(\n",
    "    answer_X, answer_y, test_size=0.2)"
   ]
  },
  {
   "cell_type": "markdown",
   "metadata": {},
   "source": [
    "# Train a Linear Regression in NN format"
   ]
  },
  {
   "cell_type": "code",
   "execution_count": null,
   "metadata": {
    "ExecuteTime": {
     "end_time": "2020-01-30T02:36:00.619971Z",
     "start_time": "2020-01-30T02:35:58.844438Z"
    }
   },
   "outputs": [],
   "source": [
    "from tensorflow.keras.models import Sequential \n",
    "from tensorflow.keras.layers import Dense, Activation"
   ]
  },
  {
   "cell_type": "markdown",
   "metadata": {},
   "source": [
    "## Create model - Answer"
   ]
  },
  {
   "cell_type": "code",
   "execution_count": null,
   "metadata": {
    "ExecuteTime": {
     "end_time": "2020-01-30T02:36:12.196247Z",
     "start_time": "2020-01-30T02:36:12.119450Z"
    }
   },
   "outputs": [],
   "source": [
    "output_dim = len(answer_lst)\n",
    "input_dim  = len(answer_vectorizer.vocabulary_)\n",
    "\n",
    "answer_model = Sequential()\n",
    "answer_model.add(Dense(output_dim, input_dim=input_dim, activation='sigmoid')) \n",
    "\n",
    "batch_size = 128\n",
    "nb_epoch = 20"
   ]
  },
  {
   "cell_type": "code",
   "execution_count": null,
   "metadata": {
    "ExecuteTime": {
     "end_time": "2020-01-30T02:36:26.561137Z",
     "start_time": "2020-01-30T02:36:17.183530Z"
    },
    "scrolled": true
   },
   "outputs": [],
   "source": [
    "answer_model.compile(optimizer='adam', loss='mae', metrics=['mae'])\n",
    "\n",
    "history = answer_model.fit(X_train_answer.toarray(), y_train_answer.as_matrix(),\n",
    "                           batch_size=batch_size,\n",
    "                           epochs=nb_epoch,\n",
    "                           verbose=1,\n",
    "                           validation_data=(X_test_answer.toarray(), y_test_answer.as_matrix()))"
   ]
  },
  {
   "cell_type": "markdown",
   "metadata": {},
   "source": [
    "## Create model - Question"
   ]
  },
  {
   "cell_type": "code",
   "execution_count": null,
   "metadata": {
    "ExecuteTime": {
     "end_time": "2020-01-30T02:37:36.003949Z",
     "start_time": "2020-01-30T02:37:35.962097Z"
    }
   },
   "outputs": [],
   "source": [
    "output_dim = len(question_lst)\n",
    "input_dim  = len(question_vectorizer.vocabulary_)\n",
    "\n",
    "question_model = Sequential()\n",
    "question_model.add(Dense(output_dim, input_dim=input_dim, activation='sigmoid')) \n",
    "\n",
    "batch_size = 64\n",
    "nb_epoch = 100"
   ]
  },
  {
   "cell_type": "code",
   "execution_count": null,
   "metadata": {
    "ExecuteTime": {
     "end_time": "2020-01-30T02:38:48.324219Z",
     "start_time": "2020-01-30T02:37:37.295107Z"
    },
    "scrolled": true
   },
   "outputs": [],
   "source": [
    "question_model.compile(optimizer='adam', loss='mae', metrics=['mae'])\n",
    "\n",
    "history = question_model.fit(X_train_question.toarray(), y_train_question.as_matrix(),\n",
    "                             batch_size=batch_size,\n",
    "                             epochs=nb_epoch,\n",
    "                             verbose=1,\n",
    "                             validation_data=(X_test_question.toarray(), y_test_question.as_matrix()))"
   ]
  },
  {
   "cell_type": "markdown",
   "metadata": {},
   "source": [
    "## Evaluate"
   ]
  },
  {
   "cell_type": "code",
   "execution_count": null,
   "metadata": {
    "ExecuteTime": {
     "end_time": "2020-01-22T01:12:33.519694Z",
     "start_time": "2020-01-22T01:12:32.679673Z"
    }
   },
   "outputs": [],
   "source": [
    "print(\"MSE\")\n",
    "print(\"Treino: %.2f\" % model.evaluate(X_train, y_train, verbose=0)[1])\n",
    "print(\"Teste : %.2f\" % model.evaluate(X_test, y_test, verbose=0)[1])"
   ]
  },
  {
   "cell_type": "code",
   "execution_count": null,
   "metadata": {
    "ExecuteTime": {
     "end_time": "2020-01-22T01:12:37.775422Z",
     "start_time": "2020-01-22T01:12:36.950430Z"
    }
   },
   "outputs": [],
   "source": [
    "y_hat_train = model.predict(X_train)\n",
    "y_hat_test = model.predict(X_test)"
   ]
  },
  {
   "cell_type": "code",
   "execution_count": null,
   "metadata": {
    "ExecuteTime": {
     "end_time": "2020-01-22T01:12:41.587922Z",
     "start_time": "2020-01-22T01:12:39.535583Z"
    }
   },
   "outputs": [],
   "source": [
    "from scipy.stats import spearmanr\n",
    "\n",
    "spears_train = []\n",
    "spears_test = []\n",
    "\n",
    "for i in range(y.shape[1]):  \n",
    "    spears_test.append(spearmanr(y_hat_test[:,i], y_test[:,i]))\n",
    "    spears_train.append(spearmanr(y_hat_train[:,i], y_train[:,i]))"
   ]
  },
  {
   "cell_type": "code",
   "execution_count": null,
   "metadata": {
    "ExecuteTime": {
     "end_time": "2020-01-22T01:12:43.443906Z",
     "start_time": "2020-01-22T01:12:43.424584Z"
    }
   },
   "outputs": [],
   "source": [
    "print('Spearman Correlation')\n",
    "print(\"Treino: %.2f\" % np.mean([i.correlation for i in spears_train if ~np.isnan(i.correlation)]))\n",
    "print(\"Teste : %.2f\" % np.mean([i.correlation for i in spears_test if ~np.isnan(i.correlation)]))"
   ]
  },
  {
   "cell_type": "markdown",
   "metadata": {},
   "source": [
    "# Submission"
   ]
  },
  {
   "cell_type": "code",
   "execution_count": null,
   "metadata": {
    "ExecuteTime": {
     "end_time": "2020-01-30T02:39:16.470851Z",
     "start_time": "2020-01-30T02:39:16.443993Z"
    }
   },
   "outputs": [],
   "source": [
    "sub = df_dict['sample_submission.csv']\n",
    "df_test = df_dict['test.csv']"
   ]
  },
  {
   "cell_type": "code",
   "execution_count": null,
   "metadata": {
    "ExecuteTime": {
     "end_time": "2020-01-30T02:40:40.261668Z",
     "start_time": "2020-01-30T02:40:39.296481Z"
    }
   },
   "outputs": [],
   "source": [
    "df_test = func.prepareData(df_test)\n",
    "\n",
    "answer_X_test = answer_vectorizer.transform(df_test['answer_text_clean'])\n",
    "question_X_test = question_vectorizer.transform(df_test['question_text_clean'])"
   ]
  },
  {
   "cell_type": "code",
   "execution_count": null,
   "metadata": {
    "ExecuteTime": {
     "end_time": "2020-01-30T02:43:14.940550Z",
     "start_time": "2020-01-30T02:43:14.563787Z"
    }
   },
   "outputs": [],
   "source": [
    "answer_y_hat_test = answer_model.predict(answer_X_test.toarray())\n",
    "question_y_hat_test = question_model.predict(question_X_test.toarray())"
   ]
  },
  {
   "cell_type": "code",
   "execution_count": null,
   "metadata": {
    "ExecuteTime": {
     "end_time": "2020-01-30T02:45:30.665305Z",
     "start_time": "2020-01-30T02:45:30.623169Z"
    }
   },
   "outputs": [],
   "source": [
    "y_hat_test = np.hstack((question_y_hat_test, answer_y_hat_test))"
   ]
  },
  {
   "cell_type": "code",
   "execution_count": null,
   "metadata": {
    "ExecuteTime": {
     "end_time": "2020-01-30T02:46:10.011319Z",
     "start_time": "2020-01-30T02:46:09.966604Z"
    }
   },
   "outputs": [],
   "source": [
    "for col_index, col in enumerate(question_lst + answer_lst):\n",
    "    sub[col] = y_hat_test[:, col_index]"
   ]
  },
  {
   "cell_type": "code",
   "execution_count": null,
   "metadata": {
    "ExecuteTime": {
     "end_time": "2020-01-30T02:46:11.659840Z",
     "start_time": "2020-01-30T02:46:11.620216Z"
    }
   },
   "outputs": [],
   "source": [
    "sub.head()"
   ]
  },
  {
   "cell_type": "code",
   "execution_count": null,
   "metadata": {
    "ExecuteTime": {
     "end_time": "2020-01-22T01:15:36.399300Z",
     "start_time": "2020-01-22T01:15:35.452011Z"
    }
   },
   "outputs": [],
   "source": [
    "sub.to_csv(\"submission.csv\", index = False)"
   ]
  }
 ],
 "metadata": {
  "kernelspec": {
   "display_name": "Python [conda env:parquinho] *",
   "language": "python",
   "name": "conda-env-parquinho-py"
  },
  "language_info": {
   "codemirror_mode": {
    "name": "ipython",
    "version": 3
   },
   "file_extension": ".py",
   "mimetype": "text/x-python",
   "name": "python",
   "nbconvert_exporter": "python",
   "pygments_lexer": "ipython3",
   "version": "3.7.6"
  },
  "varInspector": {
   "cols": {
    "lenName": 16,
    "lenType": 16,
    "lenVar": 40
   },
   "kernels_config": {
    "python": {
     "delete_cmd_postfix": "",
     "delete_cmd_prefix": "del ",
     "library": "var_list.py",
     "varRefreshCmd": "print(var_dic_list())"
    },
    "r": {
     "delete_cmd_postfix": ") ",
     "delete_cmd_prefix": "rm(",
     "library": "var_list.r",
     "varRefreshCmd": "cat(var_dic_list()) "
    }
   },
   "types_to_exclude": [
    "module",
    "function",
    "builtin_function_or_method",
    "instance",
    "_Feature"
   ],
   "window_display": false
  }
 },
 "nbformat": 4,
 "nbformat_minor": 2
}
