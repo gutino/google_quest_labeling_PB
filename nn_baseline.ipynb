{
 "cells": [
  {
   "cell_type": "code",
   "execution_count": null,
   "metadata": {
    "ExecuteTime": {
     "end_time": "2020-01-31T21:58:43.715352Z",
     "start_time": "2020-01-31T21:58:43.542603Z"
    }
   },
   "outputs": [],
   "source": [
    "import functions as func\n",
    "import pandas as pd\n",
    "import numpy as np\n",
    "import re\n",
    "\n",
    "import warnings\n",
    "warnings.filterwarnings(\"ignore\")\n",
    "\n",
    "%load_ext autoreload\n",
    "%autoreload 2"
   ]
  },
  {
   "cell_type": "markdown",
   "metadata": {},
   "source": [
    "# Preprocessing"
   ]
  },
  {
   "cell_type": "code",
   "execution_count": null,
   "metadata": {
    "ExecuteTime": {
     "end_time": "2020-01-31T21:58:44.268040Z",
     "start_time": "2020-01-31T21:58:44.114071Z"
    }
   },
   "outputs": [],
   "source": [
    "# Um diretorio que contém todos os datasets\n",
    "path = 'data'\n",
    "\n",
    "df_dict = func.readCSV_DATA(path)"
   ]
  },
  {
   "cell_type": "code",
   "execution_count": null,
   "metadata": {
    "ExecuteTime": {
     "end_time": "2020-01-31T21:58:45.153506Z",
     "start_time": "2020-01-31T21:58:44.640061Z"
    }
   },
   "outputs": [],
   "source": [
    "df_train = df_dict['train.csv']"
   ]
  },
  {
   "cell_type": "code",
   "execution_count": null,
   "metadata": {
    "ExecuteTime": {
     "end_time": "2020-01-31T21:58:46.494798Z",
     "start_time": "2020-01-31T21:58:45.628139Z"
    }
   },
   "outputs": [],
   "source": [
    "question_lst = []\n",
    "answer_lst = []\n",
    "\n",
    "for column in df_train.columns[11:]:\n",
    "    match = re.match('([a-z]*)_', column)\n",
    "    if match.group(1) == 'question':\n",
    "        question_lst.append(column)\n",
    "    else:\n",
    "        answer_lst.append(column)"
   ]
  },
  {
   "cell_type": "code",
   "execution_count": null,
   "metadata": {
    "ExecuteTime": {
     "end_time": "2020-01-31T21:58:47.945043Z",
     "start_time": "2020-01-31T21:58:46.963140Z"
    }
   },
   "outputs": [],
   "source": [
    "df_train = func.prepareData(df_train)"
   ]
  },
  {
   "cell_type": "markdown",
   "metadata": {},
   "source": [
    "# Extracting simple text features"
   ]
  },
  {
   "cell_type": "code",
   "execution_count": null,
   "metadata": {
    "ExecuteTime": {
     "end_time": "2020-01-31T21:58:49.204474Z",
     "start_time": "2020-01-31T21:58:48.515946Z"
    }
   },
   "outputs": [],
   "source": [
    "from nltk.tokenize import word_tokenize\n",
    "from sklearn.feature_extraction.text import TfidfVectorizer\n",
    "from sklearn.model_selection import train_test_split"
   ]
  },
  {
   "cell_type": "code",
   "execution_count": null,
   "metadata": {
    "ExecuteTime": {
     "end_time": "2020-01-31T21:58:55.832453Z",
     "start_time": "2020-01-31T21:58:49.763361Z"
    }
   },
   "outputs": [],
   "source": [
    "%%time\n",
    "question_vectorizer = TfidfVectorizer(tokenizer=word_tokenize,\n",
    "                                      strip_accents='ascii',\n",
    "                                      stop_words='english',\n",
    "                                      min_df=3,\n",
    "                                      max_df=int(df_train.shape[0]/30))\n",
    "\n",
    "question_X = question_vectorizer.fit_transform(df_train['question_text_clean'])"
   ]
  },
  {
   "cell_type": "code",
   "execution_count": null,
   "metadata": {
    "ExecuteTime": {
     "end_time": "2020-01-31T21:59:01.532338Z",
     "start_time": "2020-01-31T21:58:56.399751Z"
    }
   },
   "outputs": [],
   "source": [
    "%%time\n",
    "answer_vectorizer = TfidfVectorizer(tokenizer=word_tokenize,\n",
    "                                    strip_accents='ascii',\n",
    "                                    stop_words='english',\n",
    "                                    min_df=3,\n",
    "                                    max_df=int(df_train.shape[0]/30))\n",
    "answer_X = answer_vectorizer.fit_transform(df_train['answer_text_clean'])"
   ]
  },
  {
   "cell_type": "code",
   "execution_count": null,
   "metadata": {
    "ExecuteTime": {
     "end_time": "2020-01-31T21:59:02.131968Z",
     "start_time": "2020-01-31T21:59:02.118180Z"
    }
   },
   "outputs": [],
   "source": [
    "question_y = df_train[question_lst]\n",
    "answer_y = df_train[answer_lst]"
   ]
  },
  {
   "cell_type": "code",
   "execution_count": null,
   "metadata": {
    "ExecuteTime": {
     "end_time": "2020-01-31T21:59:03.120882Z",
     "start_time": "2020-01-31T21:59:02.833561Z"
    }
   },
   "outputs": [],
   "source": [
    "X_train_question, X_test_question, y_train_question, y_test_question = train_test_split(\n",
    "    question_X, question_y, test_size=0.2)\n",
    "\n",
    "X_train_answer, X_test_answer, y_train_answer, y_test_answer = train_test_split(\n",
    "    answer_X, answer_y, test_size=0.2)"
   ]
  },
  {
   "cell_type": "markdown",
   "metadata": {},
   "source": [
    "# Train a Linear Regression in NN format"
   ]
  },
  {
   "cell_type": "markdown",
   "metadata": {},
   "source": [
    "## Create model - Answer"
   ]
  },
  {
   "cell_type": "code",
   "execution_count": null,
   "metadata": {
    "ExecuteTime": {
     "end_time": "2020-01-31T22:50:05.683018Z",
     "start_time": "2020-01-31T22:49:51.105355Z"
    },
    "scrolled": true
   },
   "outputs": [],
   "source": [
    "output_dim = len(answer_lst)\n",
    "input_dim = len(answer_vectorizer.vocabulary_)\n",
    "\n",
    "answer_model = func.create_model(output_dim, input_dim, 'binary_crossentropy')\n",
    "\n",
    "answer_model = func.train_model(answer_model, X_train_answer, y_train_answer, X_test_answer,\n",
    "                                y_test_answer, batch_size=128, nb_epoch=60, verbose=0)"
   ]
  },
  {
   "cell_type": "code",
   "execution_count": null,
   "metadata": {
    "ExecuteTime": {
     "end_time": "2020-01-31T22:50:07.345687Z",
     "start_time": "2020-01-31T22:50:06.710264Z"
    }
   },
   "outputs": [],
   "source": [
    "func.spearman_corr(y_train_answer, answer_model.predict(X_train_answer.toarray()))"
   ]
  },
  {
   "cell_type": "code",
   "execution_count": null,
   "metadata": {
    "ExecuteTime": {
     "end_time": "2020-01-31T22:50:08.596567Z",
     "start_time": "2020-01-31T22:50:08.388014Z"
    }
   },
   "outputs": [],
   "source": [
    "func.spearman_corr(y_test_answer, answer_model.predict(X_test_answer.toarray()))"
   ]
  },
  {
   "cell_type": "markdown",
   "metadata": {},
   "source": [
    "## Create model - Question"
   ]
  },
  {
   "cell_type": "code",
   "execution_count": null,
   "metadata": {
    "ExecuteTime": {
     "end_time": "2020-02-01T00:00:46.630505Z",
     "start_time": "2020-02-01T00:00:46.564452Z"
    }
   },
   "outputs": [],
   "source": [
    "output_dim = len(question_lst)\n",
    "input_dim  = len(question_vectorizer.vocabulary_)\n",
    "\n",
    "question_model = func.create_model(output_dim, input_dim, 'binary_crossentropy')"
   ]
  },
  {
   "cell_type": "code",
   "execution_count": null,
   "metadata": {
    "ExecuteTime": {
     "end_time": "2020-02-01T00:01:19.590627Z",
     "start_time": "2020-02-01T00:00:47.644413Z"
    },
    "scrolled": true
   },
   "outputs": [],
   "source": [
    "question_model = func.train_model(question_model, X_train_question, y_train_question, X_test_question,\n",
    "                                  y_test_question, batch_size=64, nb_epoch=100, verbose=1)"
   ]
  },
  {
   "cell_type": "code",
   "execution_count": null,
   "metadata": {
    "ExecuteTime": {
     "end_time": "2020-02-01T00:01:21.043564Z",
     "start_time": "2020-02-01T00:01:20.716129Z"
    }
   },
   "outputs": [],
   "source": [
    "func.spearman_corr(y_test_question, question_model.predict(X_test_question))"
   ]
  },
  {
   "cell_type": "markdown",
   "metadata": {},
   "source": [
    "# Submission"
   ]
  },
  {
   "cell_type": "code",
   "execution_count": null,
   "metadata": {
    "ExecuteTime": {
     "end_time": "2020-01-30T02:39:16.470851Z",
     "start_time": "2020-01-30T02:39:16.443993Z"
    }
   },
   "outputs": [],
   "source": [
    "sub = df_dict['sample_submission.csv']\n",
    "df_test = df_dict['test.csv']"
   ]
  },
  {
   "cell_type": "code",
   "execution_count": null,
   "metadata": {
    "ExecuteTime": {
     "end_time": "2020-01-30T02:40:40.261668Z",
     "start_time": "2020-01-30T02:40:39.296481Z"
    }
   },
   "outputs": [],
   "source": [
    "df_test = func.prepareData(df_test)\n",
    "\n",
    "answer_X_test = answer_vectorizer.transform(df_test['answer_text_clean'])\n",
    "question_X_test = question_vectorizer.transform(df_test['question_text_clean'])"
   ]
  },
  {
   "cell_type": "code",
   "execution_count": null,
   "metadata": {
    "ExecuteTime": {
     "end_time": "2020-01-30T02:43:14.940550Z",
     "start_time": "2020-01-30T02:43:14.563787Z"
    }
   },
   "outputs": [],
   "source": [
    "answer_y_hat_test = answer_model.predict(answer_X_test.toarray())\n",
    "question_y_hat_test = question_model.predict(question_X_test.toarray())"
   ]
  },
  {
   "cell_type": "code",
   "execution_count": null,
   "metadata": {
    "ExecuteTime": {
     "end_time": "2020-01-30T02:45:30.665305Z",
     "start_time": "2020-01-30T02:45:30.623169Z"
    }
   },
   "outputs": [],
   "source": [
    "y_hat_test = np.hstack((question_y_hat_test, answer_y_hat_test))"
   ]
  },
  {
   "cell_type": "code",
   "execution_count": null,
   "metadata": {
    "ExecuteTime": {
     "end_time": "2020-01-30T02:46:10.011319Z",
     "start_time": "2020-01-30T02:46:09.966604Z"
    }
   },
   "outputs": [],
   "source": [
    "for col_index, col in enumerate(question_lst + answer_lst):\n",
    "    sub[col] = y_hat_test[:, col_index]"
   ]
  },
  {
   "cell_type": "code",
   "execution_count": null,
   "metadata": {
    "ExecuteTime": {
     "end_time": "2020-01-30T02:46:11.659840Z",
     "start_time": "2020-01-30T02:46:11.620216Z"
    }
   },
   "outputs": [],
   "source": [
    "sub.head()"
   ]
  },
  {
   "cell_type": "code",
   "execution_count": null,
   "metadata": {
    "ExecuteTime": {
     "end_time": "2020-01-22T01:15:36.399300Z",
     "start_time": "2020-01-22T01:15:35.452011Z"
    }
   },
   "outputs": [],
   "source": [
    "sub.to_csv(\"submission.csv\", index = False)"
   ]
  }
 ],
 "metadata": {
  "kernelspec": {
   "display_name": "Python [conda env:parquinho] *",
   "language": "python",
   "name": "conda-env-parquinho-py"
  },
  "language_info": {
   "codemirror_mode": {
    "name": "ipython",
    "version": 3
   },
   "file_extension": ".py",
   "mimetype": "text/x-python",
   "name": "python",
   "nbconvert_exporter": "python",
   "pygments_lexer": "ipython3",
   "version": "3.7.6"
  },
  "varInspector": {
   "cols": {
    "lenName": 16,
    "lenType": 16,
    "lenVar": 40
   },
   "kernels_config": {
    "python": {
     "delete_cmd_postfix": "",
     "delete_cmd_prefix": "del ",
     "library": "var_list.py",
     "varRefreshCmd": "print(var_dic_list())"
    },
    "r": {
     "delete_cmd_postfix": ") ",
     "delete_cmd_prefix": "rm(",
     "library": "var_list.r",
     "varRefreshCmd": "cat(var_dic_list()) "
    }
   },
   "types_to_exclude": [
    "module",
    "function",
    "builtin_function_or_method",
    "instance",
    "_Feature"
   ],
   "window_display": false
  }
 },
 "nbformat": 4,
 "nbformat_minor": 2
}
