{
 "cells": [
  {
   "cell_type": "code",
   "execution_count": null,
   "metadata": {
    "ExecuteTime": {
     "end_time": "2020-01-21T19:49:38.551635Z",
     "start_time": "2020-01-21T19:49:38.317425Z"
    }
   },
   "outputs": [],
   "source": [
    "import pandas as pd\n",
    "import re\n",
    "\n",
    "import warnings\n",
    "warnings.filterwarnings(\"ignore\")"
   ]
  },
  {
   "cell_type": "markdown",
   "metadata": {},
   "source": [
    "# Preprocessing"
   ]
  },
  {
   "cell_type": "code",
   "execution_count": null,
   "metadata": {
    "ExecuteTime": {
     "end_time": "2020-01-21T19:50:18.062717Z",
     "start_time": "2020-01-21T19:50:17.965713Z"
    }
   },
   "outputs": [],
   "source": [
    "df = pd.read_csv('train.csv')"
   ]
  },
  {
   "cell_type": "code",
   "execution_count": null,
   "metadata": {
    "ExecuteTime": {
     "end_time": "2020-01-21T19:50:18.392508Z",
     "start_time": "2020-01-21T19:50:18.128426Z"
    }
   },
   "outputs": [],
   "source": [
    "# Concat three main text columns\n",
    "df['text_concat'] = ['\\n\\n'.join([i,j,k]) for i,j,k in zip(df.question_title, df.question_body, df.answer)]\n",
    "\n",
    "# Clean numbers\n",
    "df['text_concat_filter'] = [re.sub('[0-9]+[^ ,.]*[0-9]*', '_num_', i) for i in df.text_concat]"
   ]
  },
  {
   "cell_type": "code",
   "execution_count": null,
   "metadata": {
    "ExecuteTime": {
     "end_time": "2020-01-21T19:50:24.769666Z",
     "start_time": "2020-01-21T19:50:24.493078Z"
    }
   },
   "outputs": [],
   "source": [
    "from nltk.tokenize import word_tokenize\n",
    "from sklearn.feature_extraction.text import TfidfVectorizer\n",
    "from sklearn.model_selection import train_test_split"
   ]
  },
  {
   "cell_type": "code",
   "execution_count": null,
   "metadata": {
    "ExecuteTime": {
     "end_time": "2020-01-21T19:50:39.316004Z",
     "start_time": "2020-01-21T19:50:28.512871Z"
    }
   },
   "outputs": [],
   "source": [
    "%%time\n",
    "vectorizer = TfidfVectorizer(tokenizer=word_tokenize,\n",
    "                             strip_accents='ascii',\n",
    "                             stop_words='english',\n",
    "                             min_df = 3,\n",
    "                             max_df = int(df.shape[0]/30))\n",
    "X = vectorizer.fit_transform(df['text_concat_filter'])"
   ]
  },
  {
   "cell_type": "code",
   "execution_count": null,
   "metadata": {
    "ExecuteTime": {
     "end_time": "2020-01-21T19:50:42.810549Z",
     "start_time": "2020-01-21T19:50:42.807966Z"
    }
   },
   "outputs": [],
   "source": [
    "y = df.iloc[:,11:41]"
   ]
  },
  {
   "cell_type": "code",
   "execution_count": null,
   "metadata": {
    "ExecuteTime": {
     "end_time": "2020-01-21T19:50:43.001970Z",
     "start_time": "2020-01-21T19:50:42.991897Z"
    }
   },
   "outputs": [],
   "source": [
    "X_train, X_test, y_train, y_test = train_test_split(X, y, test_size=0.15)"
   ]
  },
  {
   "cell_type": "markdown",
   "metadata": {},
   "source": [
    "# Train a Linear Regression in NN format"
   ]
  },
  {
   "cell_type": "code",
   "execution_count": null,
   "metadata": {
    "ExecuteTime": {
     "end_time": "2020-01-21T19:51:02.822342Z",
     "start_time": "2020-01-21T19:50:50.877137Z"
    }
   },
   "outputs": [],
   "source": [
    "from tensorflow.keras.models import Sequential \n",
    "from tensorflow.keras.layers import Dense, Activation"
   ]
  },
  {
   "cell_type": "code",
   "execution_count": null,
   "metadata": {
    "ExecuteTime": {
     "end_time": "2020-01-21T19:51:03.218601Z",
     "start_time": "2020-01-21T19:51:02.953274Z"
    }
   },
   "outputs": [],
   "source": [
    "X_train, X_test, y_train, y_test = X_train.toarray(), X_test.toarray(), y_train.as_matrix(), y_test.as_matrix()"
   ]
  },
  {
   "cell_type": "markdown",
   "metadata": {},
   "source": [
    "## Create model"
   ]
  },
  {
   "cell_type": "code",
   "execution_count": null,
   "metadata": {
    "ExecuteTime": {
     "end_time": "2020-01-21T19:51:04.036015Z",
     "start_time": "2020-01-21T19:51:03.346511Z"
    }
   },
   "outputs": [],
   "source": [
    "output_dim = y.shape[1]\n",
    "input_dim  = len(vectorizer.vocabulary_)\n",
    "\n",
    "model = Sequential() \n",
    "model.add(Dense(output_dim, input_dim=input_dim, activation='sigmoid')) \n",
    "\n",
    "batch_size = 128\n",
    "nb_epoch = 20"
   ]
  },
  {
   "cell_type": "code",
   "execution_count": null,
   "metadata": {
    "ExecuteTime": {
     "end_time": "2020-01-21T19:51:23.047479Z",
     "start_time": "2020-01-21T19:51:08.622345Z"
    },
    "scrolled": true
   },
   "outputs": [],
   "source": [
    "model.compile(optimizer='adam', loss='mse', metrics=['mse'])\n",
    "\n",
    "history = model.fit(X_train, y_train,\n",
    "                    batch_size=batch_size,\n",
    "                    epochs=nb_epoch,\n",
    "                    verbose=1,\n",
    "                    validation_data = (X_test, y_test)) "
   ]
  },
  {
   "cell_type": "markdown",
   "metadata": {},
   "source": [
    "## Evaluate"
   ]
  },
  {
   "cell_type": "code",
   "execution_count": null,
   "metadata": {
    "ExecuteTime": {
     "end_time": "2020-01-21T19:53:07.067903Z",
     "start_time": "2020-01-21T19:53:06.095599Z"
    }
   },
   "outputs": [],
   "source": [
    "print(\"MSE\")\n",
    "print(\"Treino: %.2f\" % model.evaluate(X_train, y_train, verbose=0)[1])\n",
    "print(\"Teste : %.2f\" % model.evaluate(X_test, y_test, verbose=0)[1])"
   ]
  },
  {
   "cell_type": "code",
   "execution_count": null,
   "metadata": {
    "ExecuteTime": {
     "end_time": "2020-01-21T19:52:40.659702Z",
     "start_time": "2020-01-21T19:52:39.950413Z"
    }
   },
   "outputs": [],
   "source": [
    "y_hat_train = model.predict(X_train)\n",
    "y_hat_test = model.predict(X_test)"
   ]
  },
  {
   "cell_type": "code",
   "execution_count": null,
   "metadata": {
    "ExecuteTime": {
     "end_time": "2020-01-21T19:55:54.229119Z",
     "start_time": "2020-01-21T19:55:54.152659Z"
    }
   },
   "outputs": [],
   "source": [
    "from scipy.stats import spearmanr\n",
    "\n",
    "spears_train = []\n",
    "spears_test = []\n",
    "\n",
    "for i in range(y.shape[1]):  \n",
    "    spears_test.append(spearmanr(y_hat_test[:,i], y_test[:,i]))\n",
    "    spears_train.append(spearmanr(y_hat_train[:,i], y_train[:,i]))"
   ]
  },
  {
   "cell_type": "code",
   "execution_count": null,
   "metadata": {
    "ExecuteTime": {
     "end_time": "2020-01-21T19:56:15.676021Z",
     "start_time": "2020-01-21T19:56:15.665920Z"
    }
   },
   "outputs": [],
   "source": [
    "print('Spearman Correlation')\n",
    "print(\"Treino: %.2f\" % np.mean([i.correlation for i in spears_train if ~np.isnan(i.correlation)]))\n",
    "print(\"Teste : %.2f\" % np.mean([i.correlation for i in spears_test if ~np.isnan(i.correlation)]))"
   ]
  },
  {
   "cell_type": "markdown",
   "metadata": {},
   "source": [
    "# Submission"
   ]
  },
  {
   "cell_type": "code",
   "execution_count": null,
   "metadata": {
    "ExecuteTime": {
     "end_time": "2020-01-21T19:58:09.807815Z",
     "start_time": "2020-01-21T19:58:09.790645Z"
    }
   },
   "outputs": [],
   "source": [
    "sub = pd.read_csv(\"sample_submission.csv\")\n",
    "df_test = pd.read_csv('test.csv')"
   ]
  },
  {
   "cell_type": "code",
   "execution_count": null,
   "metadata": {
    "ExecuteTime": {
     "end_time": "2020-01-21T19:58:13.438011Z",
     "start_time": "2020-01-21T19:58:12.551580Z"
    }
   },
   "outputs": [],
   "source": [
    "df_test['text_concat'] = ['\\n\\n'.join([i,j,k]) for i,j,k in zip(df_test.question_title, df_test.question_body, df_test.answer)]\n",
    "df_test['text_concat_filter'] = [re.sub('[0-9]+[^ ,.]*[0-9]*', '_num_', i) for i in df_test.text_concat]\n",
    "\n",
    "X_test = vectorizer.transform(df_test['text_concat_filter'])"
   ]
  },
  {
   "cell_type": "code",
   "execution_count": null,
   "metadata": {
    "ExecuteTime": {
     "end_time": "2020-01-21T19:58:17.148350Z",
     "start_time": "2020-01-21T19:58:17.036341Z"
    }
   },
   "outputs": [],
   "source": [
    "y_hat_test = model.predict(X_test.toarray())"
   ]
  },
  {
   "cell_type": "code",
   "execution_count": null,
   "metadata": {
    "ExecuteTime": {
     "end_time": "2020-01-21T19:58:22.220775Z",
     "start_time": "2020-01-21T19:58:22.054686Z"
    }
   },
   "outputs": [],
   "source": [
    "for col_index, col in enumerate(y.columns.tolist()):\n",
    "    sub[col] = y_hat_test[:, col_index]"
   ]
  },
  {
   "cell_type": "code",
   "execution_count": null,
   "metadata": {
    "ExecuteTime": {
     "end_time": "2020-01-21T19:58:27.136888Z",
     "start_time": "2020-01-21T19:58:27.121384Z"
    }
   },
   "outputs": [],
   "source": [
    "sub.head()"
   ]
  },
  {
   "cell_type": "code",
   "execution_count": null,
   "metadata": {
    "ExecuteTime": {
     "end_time": "2020-01-21T19:58:31.236029Z",
     "start_time": "2020-01-21T19:58:31.220242Z"
    }
   },
   "outputs": [],
   "source": [
    "sub.to_csv(\"submission.csv\", index = False)"
   ]
  },
  {
   "cell_type": "code",
   "execution_count": null,
   "metadata": {},
   "outputs": [],
   "source": []
  }
 ],
 "metadata": {
  "kernelspec": {
   "display_name": "Python [conda env:parquinho] *",
   "language": "python",
   "name": "conda-env-parquinho-py"
  },
  "language_info": {
   "codemirror_mode": {
    "name": "ipython",
    "version": 3
   },
   "file_extension": ".py",
   "mimetype": "text/x-python",
   "name": "python",
   "nbconvert_exporter": "python",
   "pygments_lexer": "ipython3",
   "version": "3.7.6"
  },
  "varInspector": {
   "cols": {
    "lenName": 16,
    "lenType": 16,
    "lenVar": 40
   },
   "kernels_config": {
    "python": {
     "delete_cmd_postfix": "",
     "delete_cmd_prefix": "del ",
     "library": "var_list.py",
     "varRefreshCmd": "print(var_dic_list())"
    },
    "r": {
     "delete_cmd_postfix": ") ",
     "delete_cmd_prefix": "rm(",
     "library": "var_list.r",
     "varRefreshCmd": "cat(var_dic_list()) "
    }
   },
   "types_to_exclude": [
    "module",
    "function",
    "builtin_function_or_method",
    "instance",
    "_Feature"
   ],
   "window_display": false
  }
 },
 "nbformat": 4,
 "nbformat_minor": 2
}
