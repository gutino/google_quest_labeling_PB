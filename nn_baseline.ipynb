{
 "cells": [
  {
   "cell_type": "code",
   "execution_count": 7,
   "metadata": {
    "ExecuteTime": {
     "end_time": "2020-01-22T01:07:24.946958Z",
     "start_time": "2020-01-22T01:07:24.935147Z"
    }
   },
   "outputs": [],
   "source": [
    "import functions as func\n",
    "import pandas as pd\n",
    "import numpy as np\n",
    "import warnings\n",
    "warnings.filterwarnings(\"ignore\")"
   ]
  },
  {
   "cell_type": "markdown",
   "metadata": {},
   "source": [
    "# Preprocessing"
   ]
  },
  {
   "cell_type": "code",
   "execution_count": 2,
   "metadata": {
    "ExecuteTime": {
     "end_time": "2020-01-22T01:05:27.109859Z",
     "start_time": "2020-01-22T01:05:26.750385Z"
    }
   },
   "outputs": [],
   "source": [
    "#Um diretorio que contém todos os datasets\n",
    "path = 'data'\n",
    "\n",
    "df_dict = func.readCSV_DATA(path)"
   ]
  },
  {
   "cell_type": "code",
   "execution_count": 3,
   "metadata": {
    "ExecuteTime": {
     "end_time": "2020-01-22T01:05:27.885639Z",
     "start_time": "2020-01-22T01:05:27.634623Z"
    }
   },
   "outputs": [],
   "source": [
    "df_train = df_dict['train.csv']\n",
    "df_train = func.prepareData(df_train)"
   ]
  },
  {
   "cell_type": "markdown",
   "metadata": {},
   "source": [
    "# Extracting simple text features"
   ]
  },
  {
   "cell_type": "code",
   "execution_count": 4,
   "metadata": {
    "ExecuteTime": {
     "end_time": "2020-01-22T01:06:42.893189Z",
     "start_time": "2020-01-22T01:06:42.381115Z"
    }
   },
   "outputs": [],
   "source": [
    "from nltk.tokenize import word_tokenize\n",
    "from sklearn.feature_extraction.text import TfidfVectorizer\n",
    "from sklearn.model_selection import train_test_split"
   ]
  },
  {
   "cell_type": "code",
   "execution_count": 5,
   "metadata": {
    "ExecuteTime": {
     "end_time": "2020-01-22T01:06:58.618815Z",
     "start_time": "2020-01-22T01:06:43.519531Z"
    }
   },
   "outputs": [
    {
     "name": "stdout",
     "output_type": "stream",
     "text": [
      "CPU times: user 13.2 s, sys: 21.8 ms, total: 13.3 s\n",
      "Wall time: 15.1 s\n"
     ]
    }
   ],
   "source": [
    "%%time\n",
    "vectorizer = TfidfVectorizer(tokenizer=word_tokenize,\n",
    "                             strip_accents='ascii',\n",
    "                             stop_words='english',\n",
    "                             min_df = 3,\n",
    "                             max_df = int(df_train.shape[0]/30))\n",
    "X = vectorizer.fit_transform(df_train['text_concat_filter'])"
   ]
  },
  {
   "cell_type": "code",
   "execution_count": 9,
   "metadata": {
    "ExecuteTime": {
     "end_time": "2020-01-22T01:07:39.558356Z",
     "start_time": "2020-01-22T01:07:39.541430Z"
    }
   },
   "outputs": [],
   "source": [
    "y = df_train.iloc[:,11:41]"
   ]
  },
  {
   "cell_type": "code",
   "execution_count": 10,
   "metadata": {
    "ExecuteTime": {
     "end_time": "2020-01-22T01:07:44.346268Z",
     "start_time": "2020-01-22T01:07:44.327797Z"
    }
   },
   "outputs": [],
   "source": [
    "X_train, X_test, y_train, y_test = train_test_split(X, y, test_size=0.15)"
   ]
  },
  {
   "cell_type": "markdown",
   "metadata": {},
   "source": [
    "# Train a Linear Regression in NN format"
   ]
  },
  {
   "cell_type": "code",
   "execution_count": 12,
   "metadata": {
    "ExecuteTime": {
     "end_time": "2020-01-22T01:11:57.659874Z",
     "start_time": "2020-01-22T01:11:53.460849Z"
    }
   },
   "outputs": [],
   "source": [
    "from tensorflow.keras.models import Sequential \n",
    "from tensorflow.keras.layers import Dense, Activation"
   ]
  },
  {
   "cell_type": "code",
   "execution_count": 13,
   "metadata": {
    "ExecuteTime": {
     "end_time": "2020-01-22T01:11:58.862865Z",
     "start_time": "2020-01-22T01:11:58.561707Z"
    }
   },
   "outputs": [],
   "source": [
    "X_train, X_test, y_train, y_test = X_train.toarray(), X_test.toarray(), y_train.as_matrix(), y_test.as_matrix()"
   ]
  },
  {
   "cell_type": "markdown",
   "metadata": {},
   "source": [
    "## Create model"
   ]
  },
  {
   "cell_type": "code",
   "execution_count": 14,
   "metadata": {
    "ExecuteTime": {
     "end_time": "2020-01-22T01:12:00.371923Z",
     "start_time": "2020-01-22T01:12:00.052017Z"
    }
   },
   "outputs": [],
   "source": [
    "output_dim = y.shape[1]\n",
    "input_dim  = len(vectorizer.vocabulary_)\n",
    "\n",
    "model = Sequential() \n",
    "model.add(Dense(output_dim, input_dim=input_dim, activation='sigmoid')) \n",
    "\n",
    "batch_size = 128\n",
    "nb_epoch = 20"
   ]
  },
  {
   "cell_type": "code",
   "execution_count": 15,
   "metadata": {
    "ExecuteTime": {
     "end_time": "2020-01-22T01:12:18.677752Z",
     "start_time": "2020-01-22T01:12:07.987408Z"
    },
    "collapsed": true
   },
   "outputs": [
    {
     "name": "stdout",
     "output_type": "stream",
     "text": [
      "Train on 5167 samples, validate on 912 samples\n",
      "Epoch 1/20\n",
      "5167/5167 [==============================] - 1s 152us/sample - loss: 0.1634 - mse: 0.1634 - val_loss: 0.1536 - val_mse: 0.1536\n",
      "Epoch 2/20\n",
      "5167/5167 [==============================] - 1s 110us/sample - loss: 0.1455 - mse: 0.1455 - val_loss: 0.1378 - val_mse: 0.1378\n",
      "Epoch 3/20\n",
      "5167/5167 [==============================] - 1s 101us/sample - loss: 0.1303 - mse: 0.1303 - val_loss: 0.1245 - val_mse: 0.1245\n",
      "Epoch 4/20\n",
      "5167/5167 [==============================] - 0s 92us/sample - loss: 0.1175 - mse: 0.1175 - val_loss: 0.1136 - val_mse: 0.1136\n",
      "Epoch 5/20\n",
      "5167/5167 [==============================] - 0s 91us/sample - loss: 0.1070 - mse: 0.1070 - val_loss: 0.1046 - val_mse: 0.1046\n",
      "Epoch 6/20\n",
      "5167/5167 [==============================] - 0s 91us/sample - loss: 0.0982 - mse: 0.0982 - val_loss: 0.0972 - val_mse: 0.0972\n",
      "Epoch 7/20\n",
      "5167/5167 [==============================] - 0s 93us/sample - loss: 0.0909 - mse: 0.0909 - val_loss: 0.0911 - val_mse: 0.0911\n",
      "Epoch 8/20\n",
      "5167/5167 [==============================] - 1s 116us/sample - loss: 0.0848 - mse: 0.0848 - val_loss: 0.0861 - val_mse: 0.0861\n",
      "Epoch 9/20\n",
      "5167/5167 [==============================] - 1s 101us/sample - loss: 0.0797 - mse: 0.0797 - val_loss: 0.0819 - val_mse: 0.0819\n",
      "Epoch 10/20\n",
      "5167/5167 [==============================] - 0s 96us/sample - loss: 0.0754 - mse: 0.0754 - val_loss: 0.0784 - val_mse: 0.0784\n",
      "Epoch 11/20\n",
      "5167/5167 [==============================] - 0s 91us/sample - loss: 0.0717 - mse: 0.0717 - val_loss: 0.0755 - val_mse: 0.0755\n",
      "Epoch 12/20\n",
      "5167/5167 [==============================] - 0s 92us/sample - loss: 0.0685 - mse: 0.0685 - val_loss: 0.0729 - val_mse: 0.0729\n",
      "Epoch 13/20\n",
      "5167/5167 [==============================] - 0s 91us/sample - loss: 0.0657 - mse: 0.0657 - val_loss: 0.0708 - val_mse: 0.0708\n",
      "Epoch 14/20\n",
      "5167/5167 [==============================] - 0s 92us/sample - loss: 0.0633 - mse: 0.0633 - val_loss: 0.0689 - val_mse: 0.0689\n",
      "Epoch 15/20\n",
      "5167/5167 [==============================] - 0s 79us/sample - loss: 0.0611 - mse: 0.0611 - val_loss: 0.0673 - val_mse: 0.0673\n",
      "Epoch 16/20\n",
      "5167/5167 [==============================] - 0s 82us/sample - loss: 0.0592 - mse: 0.0592 - val_loss: 0.0659 - val_mse: 0.0659\n",
      "Epoch 17/20\n",
      "5167/5167 [==============================] - 1s 99us/sample - loss: 0.0574 - mse: 0.0574 - val_loss: 0.0646 - val_mse: 0.0646\n",
      "Epoch 18/20\n",
      "5167/5167 [==============================] - 0s 93us/sample - loss: 0.0558 - mse: 0.0558 - val_loss: 0.0635 - val_mse: 0.0635\n",
      "Epoch 19/20\n",
      "5167/5167 [==============================] - 0s 94us/sample - loss: 0.0544 - mse: 0.0544 - val_loss: 0.0625 - val_mse: 0.0625\n",
      "Epoch 20/20\n",
      "5167/5167 [==============================] - 1s 100us/sample - loss: 0.0531 - mse: 0.0531 - val_loss: 0.0616 - val_mse: 0.0616\n"
     ]
    }
   ],
   "source": [
    "model.compile(optimizer='adam', loss='mse', metrics=['mse'])\n",
    "\n",
    "history = model.fit(X_train, y_train,\n",
    "                    batch_size=batch_size,\n",
    "                    epochs=nb_epoch,\n",
    "                    verbose=1,\n",
    "                    validation_data = (X_test, y_test)) "
   ]
  },
  {
   "cell_type": "markdown",
   "metadata": {},
   "source": [
    "## Evaluate"
   ]
  },
  {
   "cell_type": "code",
   "execution_count": 16,
   "metadata": {
    "ExecuteTime": {
     "end_time": "2020-01-22T01:12:33.519694Z",
     "start_time": "2020-01-22T01:12:32.679673Z"
    }
   },
   "outputs": [
    {
     "name": "stdout",
     "output_type": "stream",
     "text": [
      "MSE\n",
      "Treino: 0.05\n",
      "Teste : 0.06\n"
     ]
    }
   ],
   "source": [
    "print(\"MSE\")\n",
    "print(\"Treino: %.2f\" % model.evaluate(X_train, y_train, verbose=0)[1])\n",
    "print(\"Teste : %.2f\" % model.evaluate(X_test, y_test, verbose=0)[1])"
   ]
  },
  {
   "cell_type": "code",
   "execution_count": 17,
   "metadata": {
    "ExecuteTime": {
     "end_time": "2020-01-22T01:12:37.775422Z",
     "start_time": "2020-01-22T01:12:36.950430Z"
    }
   },
   "outputs": [],
   "source": [
    "y_hat_train = model.predict(X_train)\n",
    "y_hat_test = model.predict(X_test)"
   ]
  },
  {
   "cell_type": "code",
   "execution_count": 18,
   "metadata": {
    "ExecuteTime": {
     "end_time": "2020-01-22T01:12:41.587922Z",
     "start_time": "2020-01-22T01:12:39.535583Z"
    }
   },
   "outputs": [],
   "source": [
    "from scipy.stats import spearmanr\n",
    "\n",
    "spears_train = []\n",
    "spears_test = []\n",
    "\n",
    "for i in range(y.shape[1]):  \n",
    "    spears_test.append(spearmanr(y_hat_test[:,i], y_test[:,i]))\n",
    "    spears_train.append(spearmanr(y_hat_train[:,i], y_train[:,i]))"
   ]
  },
  {
   "cell_type": "code",
   "execution_count": 19,
   "metadata": {
    "ExecuteTime": {
     "end_time": "2020-01-22T01:12:43.443906Z",
     "start_time": "2020-01-22T01:12:43.424584Z"
    }
   },
   "outputs": [
    {
     "name": "stdout",
     "output_type": "stream",
     "text": [
      "Spearman Correlation\n",
      "Treino: 0.41\n",
      "Teste : 0.19\n"
     ]
    }
   ],
   "source": [
    "print('Spearman Correlation')\n",
    "print(\"Treino: %.2f\" % np.mean([i.correlation for i in spears_train if ~np.isnan(i.correlation)]))\n",
    "print(\"Teste : %.2f\" % np.mean([i.correlation for i in spears_test if ~np.isnan(i.correlation)]))"
   ]
  },
  {
   "cell_type": "markdown",
   "metadata": {},
   "source": [
    "# Submission"
   ]
  },
  {
   "cell_type": "code",
   "execution_count": 20,
   "metadata": {
    "ExecuteTime": {
     "end_time": "2020-01-22T01:13:46.699330Z",
     "start_time": "2020-01-22T01:13:46.686068Z"
    }
   },
   "outputs": [],
   "source": [
    "sub = df_dict['sample_submission.csv']\n",
    "df_test = df_dict['test.csv']"
   ]
  },
  {
   "cell_type": "code",
   "execution_count": 21,
   "metadata": {
    "ExecuteTime": {
     "end_time": "2020-01-22T01:15:21.473560Z",
     "start_time": "2020-01-22T01:15:20.386344Z"
    }
   },
   "outputs": [],
   "source": [
    "df_test = func.prepareData(df_test)\n",
    "\n",
    "X_test = vectorizer.transform(df_test['text_concat_filter'])"
   ]
  },
  {
   "cell_type": "code",
   "execution_count": 22,
   "metadata": {
    "ExecuteTime": {
     "end_time": "2020-01-22T01:15:25.871672Z",
     "start_time": "2020-01-22T01:15:25.743455Z"
    }
   },
   "outputs": [],
   "source": [
    "y_hat_test = model.predict(X_test.toarray())"
   ]
  },
  {
   "cell_type": "code",
   "execution_count": 23,
   "metadata": {
    "ExecuteTime": {
     "end_time": "2020-01-22T01:15:27.090416Z",
     "start_time": "2020-01-22T01:15:26.833769Z"
    }
   },
   "outputs": [],
   "source": [
    "for col_index, col in enumerate(y.columns.tolist()):\n",
    "    sub[col] = y_hat_test[:, col_index]"
   ]
  },
  {
   "cell_type": "code",
   "execution_count": 24,
   "metadata": {
    "ExecuteTime": {
     "end_time": "2020-01-22T01:15:28.151601Z",
     "start_time": "2020-01-22T01:15:27.834482Z"
    },
    "collapsed": true
   },
   "outputs": [
    {
     "data": {
      "text/html": [
       "<div>\n",
       "<style scoped>\n",
       "    .dataframe tbody tr th:only-of-type {\n",
       "        vertical-align: middle;\n",
       "    }\n",
       "\n",
       "    .dataframe tbody tr th {\n",
       "        vertical-align: top;\n",
       "    }\n",
       "\n",
       "    .dataframe thead th {\n",
       "        text-align: right;\n",
       "    }\n",
       "</style>\n",
       "<table border=\"1\" class=\"dataframe\">\n",
       "  <thead>\n",
       "    <tr style=\"text-align: right;\">\n",
       "      <th></th>\n",
       "      <th>qa_id</th>\n",
       "      <th>question_asker_intent_understanding</th>\n",
       "      <th>question_body_critical</th>\n",
       "      <th>question_conversational</th>\n",
       "      <th>question_expect_short_answer</th>\n",
       "      <th>question_fact_seeking</th>\n",
       "      <th>question_has_commonly_accepted_answer</th>\n",
       "      <th>question_interestingness_others</th>\n",
       "      <th>question_interestingness_self</th>\n",
       "      <th>question_multi_intent</th>\n",
       "      <th>...</th>\n",
       "      <th>question_well_written</th>\n",
       "      <th>answer_helpful</th>\n",
       "      <th>answer_level_of_information</th>\n",
       "      <th>answer_plausible</th>\n",
       "      <th>answer_relevance</th>\n",
       "      <th>answer_satisfaction</th>\n",
       "      <th>answer_type_instructions</th>\n",
       "      <th>answer_type_procedure</th>\n",
       "      <th>answer_type_reason_explanation</th>\n",
       "      <th>answer_well_written</th>\n",
       "    </tr>\n",
       "  </thead>\n",
       "  <tbody>\n",
       "    <tr>\n",
       "      <th>0</th>\n",
       "      <td>39</td>\n",
       "      <td>0.872079</td>\n",
       "      <td>0.669740</td>\n",
       "      <td>0.164625</td>\n",
       "      <td>0.680046</td>\n",
       "      <td>0.696886</td>\n",
       "      <td>0.679883</td>\n",
       "      <td>0.672172</td>\n",
       "      <td>0.652595</td>\n",
       "      <td>0.290822</td>\n",
       "      <td>...</td>\n",
       "      <td>0.833562</td>\n",
       "      <td>0.870048</td>\n",
       "      <td>0.699514</td>\n",
       "      <td>0.879740</td>\n",
       "      <td>0.881179</td>\n",
       "      <td>0.843958</td>\n",
       "      <td>0.320865</td>\n",
       "      <td>0.162392</td>\n",
       "      <td>0.616357</td>\n",
       "      <td>0.866328</td>\n",
       "    </tr>\n",
       "    <tr>\n",
       "      <th>1</th>\n",
       "      <td>46</td>\n",
       "      <td>0.794487</td>\n",
       "      <td>0.561225</td>\n",
       "      <td>0.176894</td>\n",
       "      <td>0.657690</td>\n",
       "      <td>0.726701</td>\n",
       "      <td>0.740977</td>\n",
       "      <td>0.530179</td>\n",
       "      <td>0.461946</td>\n",
       "      <td>0.281977</td>\n",
       "      <td>...</td>\n",
       "      <td>0.730334</td>\n",
       "      <td>0.798691</td>\n",
       "      <td>0.618893</td>\n",
       "      <td>0.811722</td>\n",
       "      <td>0.818366</td>\n",
       "      <td>0.766045</td>\n",
       "      <td>0.631856</td>\n",
       "      <td>0.224015</td>\n",
       "      <td>0.422958</td>\n",
       "      <td>0.788230</td>\n",
       "    </tr>\n",
       "    <tr>\n",
       "      <th>2</th>\n",
       "      <td>70</td>\n",
       "      <td>0.834753</td>\n",
       "      <td>0.578260</td>\n",
       "      <td>0.167457</td>\n",
       "      <td>0.646698</td>\n",
       "      <td>0.729259</td>\n",
       "      <td>0.681578</td>\n",
       "      <td>0.600121</td>\n",
       "      <td>0.560264</td>\n",
       "      <td>0.324556</td>\n",
       "      <td>...</td>\n",
       "      <td>0.796926</td>\n",
       "      <td>0.846578</td>\n",
       "      <td>0.651904</td>\n",
       "      <td>0.857214</td>\n",
       "      <td>0.859079</td>\n",
       "      <td>0.821498</td>\n",
       "      <td>0.348282</td>\n",
       "      <td>0.193854</td>\n",
       "      <td>0.629352</td>\n",
       "      <td>0.840291</td>\n",
       "    </tr>\n",
       "    <tr>\n",
       "      <th>3</th>\n",
       "      <td>132</td>\n",
       "      <td>0.820710</td>\n",
       "      <td>0.540696</td>\n",
       "      <td>0.153079</td>\n",
       "      <td>0.716076</td>\n",
       "      <td>0.757220</td>\n",
       "      <td>0.793849</td>\n",
       "      <td>0.567747</td>\n",
       "      <td>0.436264</td>\n",
       "      <td>0.278183</td>\n",
       "      <td>...</td>\n",
       "      <td>0.753776</td>\n",
       "      <td>0.838405</td>\n",
       "      <td>0.657530</td>\n",
       "      <td>0.848023</td>\n",
       "      <td>0.852265</td>\n",
       "      <td>0.806483</td>\n",
       "      <td>0.587206</td>\n",
       "      <td>0.187790</td>\n",
       "      <td>0.518986</td>\n",
       "      <td>0.833823</td>\n",
       "    </tr>\n",
       "    <tr>\n",
       "      <th>4</th>\n",
       "      <td>200</td>\n",
       "      <td>0.795944</td>\n",
       "      <td>0.648624</td>\n",
       "      <td>0.217606</td>\n",
       "      <td>0.626658</td>\n",
       "      <td>0.663419</td>\n",
       "      <td>0.692278</td>\n",
       "      <td>0.631580</td>\n",
       "      <td>0.610963</td>\n",
       "      <td>0.384792</td>\n",
       "      <td>...</td>\n",
       "      <td>0.751950</td>\n",
       "      <td>0.797245</td>\n",
       "      <td>0.639800</td>\n",
       "      <td>0.804321</td>\n",
       "      <td>0.804819</td>\n",
       "      <td>0.746243</td>\n",
       "      <td>0.389154</td>\n",
       "      <td>0.230377</td>\n",
       "      <td>0.561255</td>\n",
       "      <td>0.787160</td>\n",
       "    </tr>\n",
       "  </tbody>\n",
       "</table>\n",
       "<p>5 rows × 31 columns</p>\n",
       "</div>"
      ],
      "text/plain": [
       "   qa_id  question_asker_intent_understanding  question_body_critical  \\\n",
       "0     39                             0.872079                0.669740   \n",
       "1     46                             0.794487                0.561225   \n",
       "2     70                             0.834753                0.578260   \n",
       "3    132                             0.820710                0.540696   \n",
       "4    200                             0.795944                0.648624   \n",
       "\n",
       "   question_conversational  question_expect_short_answer  \\\n",
       "0                 0.164625                      0.680046   \n",
       "1                 0.176894                      0.657690   \n",
       "2                 0.167457                      0.646698   \n",
       "3                 0.153079                      0.716076   \n",
       "4                 0.217606                      0.626658   \n",
       "\n",
       "   question_fact_seeking  question_has_commonly_accepted_answer  \\\n",
       "0               0.696886                               0.679883   \n",
       "1               0.726701                               0.740977   \n",
       "2               0.729259                               0.681578   \n",
       "3               0.757220                               0.793849   \n",
       "4               0.663419                               0.692278   \n",
       "\n",
       "   question_interestingness_others  question_interestingness_self  \\\n",
       "0                         0.672172                       0.652595   \n",
       "1                         0.530179                       0.461946   \n",
       "2                         0.600121                       0.560264   \n",
       "3                         0.567747                       0.436264   \n",
       "4                         0.631580                       0.610963   \n",
       "\n",
       "   question_multi_intent  ...  question_well_written  answer_helpful  \\\n",
       "0               0.290822  ...               0.833562        0.870048   \n",
       "1               0.281977  ...               0.730334        0.798691   \n",
       "2               0.324556  ...               0.796926        0.846578   \n",
       "3               0.278183  ...               0.753776        0.838405   \n",
       "4               0.384792  ...               0.751950        0.797245   \n",
       "\n",
       "   answer_level_of_information  answer_plausible  answer_relevance  \\\n",
       "0                     0.699514          0.879740          0.881179   \n",
       "1                     0.618893          0.811722          0.818366   \n",
       "2                     0.651904          0.857214          0.859079   \n",
       "3                     0.657530          0.848023          0.852265   \n",
       "4                     0.639800          0.804321          0.804819   \n",
       "\n",
       "   answer_satisfaction  answer_type_instructions  answer_type_procedure  \\\n",
       "0             0.843958                  0.320865               0.162392   \n",
       "1             0.766045                  0.631856               0.224015   \n",
       "2             0.821498                  0.348282               0.193854   \n",
       "3             0.806483                  0.587206               0.187790   \n",
       "4             0.746243                  0.389154               0.230377   \n",
       "\n",
       "   answer_type_reason_explanation  answer_well_written  \n",
       "0                        0.616357             0.866328  \n",
       "1                        0.422958             0.788230  \n",
       "2                        0.629352             0.840291  \n",
       "3                        0.518986             0.833823  \n",
       "4                        0.561255             0.787160  \n",
       "\n",
       "[5 rows x 31 columns]"
      ]
     },
     "execution_count": 24,
     "metadata": {},
     "output_type": "execute_result"
    }
   ],
   "source": [
    "sub.head()"
   ]
  },
  {
   "cell_type": "code",
   "execution_count": 25,
   "metadata": {
    "ExecuteTime": {
     "end_time": "2020-01-22T01:15:36.399300Z",
     "start_time": "2020-01-22T01:15:35.452011Z"
    }
   },
   "outputs": [],
   "source": [
    "sub.to_csv(\"submission.csv\", index = False)"
   ]
  }
 ],
 "metadata": {
  "kernelspec": {
   "display_name": "Python 3",
   "language": "python",
   "name": "python3"
  },
  "language_info": {
   "codemirror_mode": {
    "name": "ipython",
    "version": 3
   },
   "file_extension": ".py",
   "mimetype": "text/x-python",
   "name": "python",
   "nbconvert_exporter": "python",
   "pygments_lexer": "ipython3",
   "version": "3.6.9"
  },
  "varInspector": {
   "cols": {
    "lenName": 16,
    "lenType": 16,
    "lenVar": 40
   },
   "kernels_config": {
    "python": {
     "delete_cmd_postfix": "",
     "delete_cmd_prefix": "del ",
     "library": "var_list.py",
     "varRefreshCmd": "print(var_dic_list())"
    },
    "r": {
     "delete_cmd_postfix": ") ",
     "delete_cmd_prefix": "rm(",
     "library": "var_list.r",
     "varRefreshCmd": "cat(var_dic_list()) "
    }
   },
   "types_to_exclude": [
    "module",
    "function",
    "builtin_function_or_method",
    "instance",
    "_Feature"
   ],
   "window_display": false
  }
 },
 "nbformat": 4,
 "nbformat_minor": 2
}
