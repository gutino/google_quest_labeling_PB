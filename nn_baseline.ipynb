{
 "cells": [
  {
   "cell_type": "code",
   "execution_count": 1,
   "metadata": {
    "ExecuteTime": {
     "end_time": "2020-02-01T19:34:26.141054Z",
     "start_time": "2020-02-01T19:34:24.912353Z"
    }
   },
   "outputs": [],
   "source": [
    "import functions as func\n",
    "import pandas as pd\n",
    "import numpy as np\n",
    "import re\n",
    "\n",
    "import warnings\n",
    "warnings.filterwarnings(\"ignore\")\n",
    "\n",
    "%load_ext autoreload\n",
    "%autoreload 2"
   ]
  },
  {
   "cell_type": "markdown",
   "metadata": {},
   "source": [
    "# Preprocessing"
   ]
  },
  {
   "cell_type": "code",
   "execution_count": 2,
   "metadata": {
    "ExecuteTime": {
     "end_time": "2020-02-01T19:34:26.332929Z",
     "start_time": "2020-02-01T19:34:26.165040Z"
    }
   },
   "outputs": [],
   "source": [
    "# Um diretorio que contém todos os datasets\n",
    "path = 'data'\n",
    "\n",
    "df_dict = func.readCSV_DATA(path)"
   ]
  },
  {
   "cell_type": "code",
   "execution_count": 3,
   "metadata": {
    "ExecuteTime": {
     "end_time": "2020-02-01T19:34:26.447365Z",
     "start_time": "2020-02-01T19:34:26.424765Z"
    }
   },
   "outputs": [],
   "source": [
    "df_train = df_dict['train.csv']"
   ]
  },
  {
   "cell_type": "code",
   "execution_count": 4,
   "metadata": {
    "ExecuteTime": {
     "end_time": "2020-02-01T19:34:26.917704Z",
     "start_time": "2020-02-01T19:34:26.894830Z"
    }
   },
   "outputs": [],
   "source": [
    "question_lst = []\n",
    "answer_lst = []\n",
    "\n",
    "for column in df_train.columns[11:]:\n",
    "    match = re.match('([a-z]*)_', column)\n",
    "    if match.group(1) == 'question':\n",
    "        question_lst.append(column)\n",
    "    else:\n",
    "        answer_lst.append(column)"
   ]
  },
  {
   "cell_type": "code",
   "execution_count": 5,
   "metadata": {
    "ExecuteTime": {
     "end_time": "2020-02-01T19:34:28.107361Z",
     "start_time": "2020-02-01T19:34:27.230146Z"
    }
   },
   "outputs": [],
   "source": [
    "df_train = func.prepareData(df_train)"
   ]
  },
  {
   "cell_type": "markdown",
   "metadata": {},
   "source": [
    "# Extracting simple text features"
   ]
  },
  {
   "cell_type": "code",
   "execution_count": 6,
   "metadata": {
    "ExecuteTime": {
     "end_time": "2020-02-01T19:34:28.388685Z",
     "start_time": "2020-02-01T19:34:28.218091Z"
    }
   },
   "outputs": [],
   "source": [
    "from nltk.tokenize import word_tokenize\n",
    "from sklearn.feature_extraction.text import TfidfVectorizer\n",
    "from sklearn.model_selection import train_test_split"
   ]
  },
  {
   "cell_type": "code",
   "execution_count": 7,
   "metadata": {
    "ExecuteTime": {
     "end_time": "2020-02-01T19:34:34.671160Z",
     "start_time": "2020-02-01T19:34:28.586217Z"
    }
   },
   "outputs": [
    {
     "name": "stdout",
     "output_type": "stream",
     "text": [
      "CPU times: user 5.94 s, sys: 3.62 ms, total: 5.94 s\n",
      "Wall time: 6.06 s\n"
     ]
    }
   ],
   "source": [
    "%%time\n",
    "question_vectorizer = TfidfVectorizer(tokenizer=word_tokenize,\n",
    "                                      strip_accents='ascii',\n",
    "                                      stop_words='english',\n",
    "                                      min_df=3,\n",
    "                                      max_df=int(df_train.shape[0]/30))\n",
    "\n",
    "question_X = question_vectorizer.fit_transform(df_train['question_text_clean'])"
   ]
  },
  {
   "cell_type": "code",
   "execution_count": 8,
   "metadata": {
    "ExecuteTime": {
     "end_time": "2020-02-01T19:34:40.379220Z",
     "start_time": "2020-02-01T19:34:34.827767Z"
    }
   },
   "outputs": [
    {
     "name": "stdout",
     "output_type": "stream",
     "text": [
      "CPU times: user 5.51 s, sys: 16 ms, total: 5.53 s\n",
      "Wall time: 5.53 s\n"
     ]
    }
   ],
   "source": [
    "%%time\n",
    "answer_vectorizer = TfidfVectorizer(tokenizer=word_tokenize,\n",
    "                                    strip_accents='ascii',\n",
    "                                    stop_words='english',\n",
    "                                    min_df=3,\n",
    "                                    max_df=int(df_train.shape[0]/30))\n",
    "answer_X = answer_vectorizer.fit_transform(df_train['answer_text_clean'])"
   ]
  },
  {
   "cell_type": "code",
   "execution_count": 9,
   "metadata": {
    "ExecuteTime": {
     "end_time": "2020-02-01T19:34:40.537076Z",
     "start_time": "2020-02-01T19:34:40.507918Z"
    }
   },
   "outputs": [],
   "source": [
    "question_y = df_train[question_lst]\n",
    "answer_y = df_train[answer_lst]"
   ]
  },
  {
   "cell_type": "code",
   "execution_count": 10,
   "metadata": {
    "ExecuteTime": {
     "end_time": "2020-02-01T19:34:40.714875Z",
     "start_time": "2020-02-01T19:34:40.686798Z"
    }
   },
   "outputs": [],
   "source": [
    "X_train_question, X_test_question, y_train_question, y_test_question = train_test_split(\n",
    "    question_X, question_y, test_size=0.2)\n",
    "\n",
    "X_train_answer, X_test_answer, y_train_answer, y_test_answer = train_test_split(\n",
    "    answer_X, answer_y, test_size=0.2)"
   ]
  },
  {
   "cell_type": "markdown",
   "metadata": {},
   "source": [
    "# Train a Linear Regression in NN format"
   ]
  },
  {
   "cell_type": "markdown",
   "metadata": {},
   "source": [
    "## Create model - Answer"
   ]
  },
  {
   "cell_type": "code",
   "execution_count": 11,
   "metadata": {
    "ExecuteTime": {
     "end_time": "2020-02-01T19:34:57.047041Z",
     "start_time": "2020-02-01T19:34:40.909945Z"
    },
    "scrolled": true
   },
   "outputs": [],
   "source": [
    "output_dim = len(answer_lst)\n",
    "input_dim = len(answer_vectorizer.vocabulary_)\n",
    "\n",
    "answer_model = func.create_model(output_dim, input_dim, 'binary_crossentropy')\n",
    "\n",
    "answer_model = func.train_model(answer_model, X_train_answer, y_train_answer, X_test_answer,\n",
    "                                y_test_answer, batch_size=128, nb_epoch=60, verbose=0)"
   ]
  },
  {
   "cell_type": "code",
   "execution_count": 12,
   "metadata": {
    "ExecuteTime": {
     "end_time": "2020-02-01T19:34:57.908183Z",
     "start_time": "2020-02-01T19:34:57.235429Z"
    }
   },
   "outputs": [
    {
     "data": {
      "text/plain": [
       "0.5736139166916241"
      ]
     },
     "execution_count": 12,
     "metadata": {},
     "output_type": "execute_result"
    }
   ],
   "source": [
    "func.spearman_corr(y_train_answer, answer_model.predict(X_train_answer.toarray()))"
   ]
  },
  {
   "cell_type": "code",
   "execution_count": 13,
   "metadata": {
    "ExecuteTime": {
     "end_time": "2020-02-01T19:34:58.318129Z",
     "start_time": "2020-02-01T19:34:58.091195Z"
    }
   },
   "outputs": [
    {
     "data": {
      "text/plain": [
       "0.233128979166548"
      ]
     },
     "execution_count": 13,
     "metadata": {},
     "output_type": "execute_result"
    }
   ],
   "source": [
    "func.spearman_corr(y_test_answer, answer_model.predict(X_test_answer.toarray()))"
   ]
  },
  {
   "cell_type": "markdown",
   "metadata": {},
   "source": [
    "## Create model - Question"
   ]
  },
  {
   "cell_type": "code",
   "execution_count": 14,
   "metadata": {
    "ExecuteTime": {
     "end_time": "2020-02-01T19:34:58.553217Z",
     "start_time": "2020-02-01T19:34:58.501756Z"
    }
   },
   "outputs": [],
   "source": [
    "output_dim = len(question_lst)\n",
    "input_dim  = len(question_vectorizer.vocabulary_)\n",
    "\n",
    "question_model = func.create_model(output_dim, input_dim, 'binary_crossentropy')"
   ]
  },
  {
   "cell_type": "code",
   "execution_count": 15,
   "metadata": {
    "ExecuteTime": {
     "end_time": "2020-02-01T19:35:32.294245Z",
     "start_time": "2020-02-01T19:34:58.737605Z"
    },
    "scrolled": true
   },
   "outputs": [
    {
     "name": "stdout",
     "output_type": "stream",
     "text": [
      "Train on 4863 samples, validate on 1216 samples\n",
      "Epoch 1/100\n",
      "4863/4863 [==============================] - 1s 145us/sample - loss: 0.7192 - val_loss: 0.6934\n",
      "Epoch 2/100\n",
      "4863/4863 [==============================] - 0s 70us/sample - loss: 0.6701 - val_loss: 0.6515\n",
      "Epoch 3/100\n",
      "4863/4863 [==============================] - 0s 67us/sample - loss: 0.6307 - val_loss: 0.6180\n",
      "Epoch 4/100\n",
      "4863/4863 [==============================] - 0s 66us/sample - loss: 0.5991 - val_loss: 0.5915\n",
      "Epoch 5/100\n",
      "4863/4863 [==============================] - 0s 66us/sample - loss: 0.5736 - val_loss: 0.5701\n",
      "Epoch 6/100\n",
      "4863/4863 [==============================] - 0s 68us/sample - loss: 0.5528 - val_loss: 0.5529\n",
      "Epoch 7/100\n",
      "4863/4863 [==============================] - 0s 69us/sample - loss: 0.5357 - val_loss: 0.5389\n",
      "Epoch 8/100\n",
      "4863/4863 [==============================] - 0s 76us/sample - loss: 0.5215 - val_loss: 0.5272\n",
      "Epoch 9/100\n",
      "4863/4863 [==============================] - 0s 69us/sample - loss: 0.5095 - val_loss: 0.5176\n",
      "Epoch 10/100\n",
      "4863/4863 [==============================] - 0s 67us/sample - loss: 0.4992 - val_loss: 0.5094\n",
      "Epoch 11/100\n",
      "4863/4863 [==============================] - 0s 71us/sample - loss: 0.4904 - val_loss: 0.5024\n",
      "Epoch 12/100\n",
      "4863/4863 [==============================] - 0s 75us/sample - loss: 0.4826 - val_loss: 0.4965\n",
      "Epoch 13/100\n",
      "4863/4863 [==============================] - 0s 75us/sample - loss: 0.4757 - val_loss: 0.4912\n",
      "Epoch 14/100\n",
      "4863/4863 [==============================] - 0s 65us/sample - loss: 0.4696 - val_loss: 0.4867\n",
      "Epoch 15/100\n",
      "4863/4863 [==============================] - 0s 67us/sample - loss: 0.4642 - val_loss: 0.4827\n",
      "Epoch 16/100\n",
      "4863/4863 [==============================] - 0s 66us/sample - loss: 0.4592 - val_loss: 0.4792\n",
      "Epoch 17/100\n",
      "4863/4863 [==============================] - 0s 70us/sample - loss: 0.4547 - val_loss: 0.4760\n",
      "Epoch 18/100\n",
      "4863/4863 [==============================] - 0s 74us/sample - loss: 0.4505 - val_loss: 0.4732\n",
      "Epoch 19/100\n",
      "4863/4863 [==============================] - 0s 67us/sample - loss: 0.4467 - val_loss: 0.4707\n",
      "Epoch 20/100\n",
      "4863/4863 [==============================] - 0s 79us/sample - loss: 0.4431 - val_loss: 0.4684\n",
      "Epoch 21/100\n",
      "4863/4863 [==============================] - 0s 67us/sample - loss: 0.4398 - val_loss: 0.4663\n",
      "Epoch 22/100\n",
      "4863/4863 [==============================] - 0s 66us/sample - loss: 0.4367 - val_loss: 0.4645\n",
      "Epoch 23/100\n",
      "4863/4863 [==============================] - 0s 67us/sample - loss: 0.4338 - val_loss: 0.4628\n",
      "Epoch 24/100\n",
      "4863/4863 [==============================] - 0s 70us/sample - loss: 0.4311 - val_loss: 0.4612\n",
      "Epoch 25/100\n",
      "4863/4863 [==============================] - 0s 67us/sample - loss: 0.4285 - val_loss: 0.4598\n",
      "Epoch 26/100\n",
      "4863/4863 [==============================] - 0s 67us/sample - loss: 0.4261 - val_loss: 0.4584\n",
      "Epoch 27/100\n",
      "4863/4863 [==============================] - 0s 72us/sample - loss: 0.4237 - val_loss: 0.4572\n",
      "Epoch 28/100\n",
      "4863/4863 [==============================] - 0s 67us/sample - loss: 0.4215 - val_loss: 0.4561\n",
      "Epoch 29/100\n",
      "4863/4863 [==============================] - 0s 67us/sample - loss: 0.4194 - val_loss: 0.4551\n",
      "Epoch 30/100\n",
      "4863/4863 [==============================] - 0s 66us/sample - loss: 0.4174 - val_loss: 0.4541\n",
      "Epoch 31/100\n",
      "4863/4863 [==============================] - 0s 67us/sample - loss: 0.4155 - val_loss: 0.4533\n",
      "Epoch 32/100\n",
      "4863/4863 [==============================] - 0s 67us/sample - loss: 0.4136 - val_loss: 0.4524\n",
      "Epoch 33/100\n",
      "4863/4863 [==============================] - 0s 67us/sample - loss: 0.4118 - val_loss: 0.4517\n",
      "Epoch 34/100\n",
      "4863/4863 [==============================] - 0s 68us/sample - loss: 0.4101 - val_loss: 0.4510\n",
      "Epoch 35/100\n",
      "4863/4863 [==============================] - 0s 71us/sample - loss: 0.4084 - val_loss: 0.4503\n",
      "Epoch 36/100\n",
      "4863/4863 [==============================] - 0s 68us/sample - loss: 0.4068 - val_loss: 0.4497\n",
      "Epoch 37/100\n",
      "4863/4863 [==============================] - 0s 72us/sample - loss: 0.4053 - val_loss: 0.4492\n",
      "Epoch 38/100\n",
      "4863/4863 [==============================] - 0s 64us/sample - loss: 0.4038 - val_loss: 0.4487\n",
      "Epoch 39/100\n",
      "4863/4863 [==============================] - 0s 65us/sample - loss: 0.4024 - val_loss: 0.4482\n",
      "Epoch 40/100\n",
      "4863/4863 [==============================] - 0s 70us/sample - loss: 0.4010 - val_loss: 0.4478\n",
      "Epoch 41/100\n",
      "4863/4863 [==============================] - 0s 67us/sample - loss: 0.3996 - val_loss: 0.4474\n",
      "Epoch 42/100\n",
      "4863/4863 [==============================] - 0s 66us/sample - loss: 0.3983 - val_loss: 0.4470\n",
      "Epoch 43/100\n",
      "4863/4863 [==============================] - 0s 74us/sample - loss: 0.3970 - val_loss: 0.4466\n",
      "Epoch 44/100\n",
      "4863/4863 [==============================] - 0s 67us/sample - loss: 0.3958 - val_loss: 0.4463\n",
      "Epoch 45/100\n",
      "4863/4863 [==============================] - 0s 67us/sample - loss: 0.3946 - val_loss: 0.4460\n",
      "Epoch 46/100\n",
      "4863/4863 [==============================] - 0s 67us/sample - loss: 0.3934 - val_loss: 0.4458\n",
      "Epoch 47/100\n",
      "4863/4863 [==============================] - 0s 67us/sample - loss: 0.3923 - val_loss: 0.4455\n",
      "Epoch 48/100\n",
      "4863/4863 [==============================] - 0s 68us/sample - loss: 0.3911 - val_loss: 0.4453\n",
      "Epoch 49/100\n",
      "4863/4863 [==============================] - 0s 69us/sample - loss: 0.3901 - val_loss: 0.4451\n",
      "Epoch 50/100\n",
      "4863/4863 [==============================] - 0s 66us/sample - loss: 0.3890 - val_loss: 0.4449\n",
      "Epoch 51/100\n",
      "4863/4863 [==============================] - 0s 67us/sample - loss: 0.3880 - val_loss: 0.4448\n",
      "Epoch 52/100\n",
      "4863/4863 [==============================] - 0s 66us/sample - loss: 0.3870 - val_loss: 0.4446\n",
      "Epoch 53/100\n",
      "4863/4863 [==============================] - 0s 67us/sample - loss: 0.3860 - val_loss: 0.4445\n",
      "Epoch 54/100\n",
      "4863/4863 [==============================] - 0s 69us/sample - loss: 0.3850 - val_loss: 0.4444\n",
      "Epoch 55/100\n",
      "4863/4863 [==============================] - 0s 67us/sample - loss: 0.3841 - val_loss: 0.4443\n",
      "Epoch 56/100\n",
      "4863/4863 [==============================] - 0s 69us/sample - loss: 0.3831 - val_loss: 0.4442\n",
      "Epoch 57/100\n",
      "4863/4863 [==============================] - 0s 65us/sample - loss: 0.3822 - val_loss: 0.4442\n",
      "Epoch 58/100\n",
      "4863/4863 [==============================] - 0s 71us/sample - loss: 0.3814 - val_loss: 0.4441\n",
      "Epoch 59/100\n",
      "4863/4863 [==============================] - 0s 66us/sample - loss: 0.3805 - val_loss: 0.4441\n",
      "Epoch 60/100\n",
      "4863/4863 [==============================] - 0s 64us/sample - loss: 0.3797 - val_loss: 0.4441\n",
      "Epoch 61/100\n",
      "4863/4863 [==============================] - 0s 65us/sample - loss: 0.3788 - val_loss: 0.4441\n",
      "Epoch 62/100\n",
      "4863/4863 [==============================] - 0s 66us/sample - loss: 0.3780 - val_loss: 0.4440\n",
      "Epoch 63/100\n",
      "4863/4863 [==============================] - 0s 65us/sample - loss: 0.3772 - val_loss: 0.4440\n",
      "Epoch 64/100\n",
      "4863/4863 [==============================] - 0s 66us/sample - loss: 0.3764 - val_loss: 0.4441\n",
      "Epoch 65/100\n",
      "4863/4863 [==============================] - 0s 63us/sample - loss: 0.3757 - val_loss: 0.4441\n",
      "Epoch 66/100\n",
      "4863/4863 [==============================] - 0s 64us/sample - loss: 0.3749 - val_loss: 0.4441\n",
      "Epoch 67/100\n",
      "4863/4863 [==============================] - 0s 65us/sample - loss: 0.3742 - val_loss: 0.4442\n",
      "Epoch 68/100\n",
      "4863/4863 [==============================] - 0s 66us/sample - loss: 0.3735 - val_loss: 0.4443\n",
      "Epoch 69/100\n",
      "4863/4863 [==============================] - 0s 64us/sample - loss: 0.3728 - val_loss: 0.4443\n",
      "Epoch 70/100\n",
      "4863/4863 [==============================] - 0s 66us/sample - loss: 0.3721 - val_loss: 0.4444\n",
      "Epoch 71/100\n",
      "4863/4863 [==============================] - 0s 65us/sample - loss: 0.3714 - val_loss: 0.4445\n",
      "Epoch 72/100\n",
      "4863/4863 [==============================] - 0s 71us/sample - loss: 0.3708 - val_loss: 0.4446\n",
      "Epoch 73/100\n",
      "4863/4863 [==============================] - 0s 72us/sample - loss: 0.3701 - val_loss: 0.4447\n",
      "Epoch 74/100\n",
      "4863/4863 [==============================] - 0s 65us/sample - loss: 0.3695 - val_loss: 0.4448\n",
      "Epoch 75/100\n",
      "4863/4863 [==============================] - 0s 69us/sample - loss: 0.3688 - val_loss: 0.4449\n",
      "Epoch 76/100\n",
      "4863/4863 [==============================] - 0s 68us/sample - loss: 0.3682 - val_loss: 0.4451\n",
      "Epoch 77/100\n"
     ]
    },
    {
     "name": "stdout",
     "output_type": "stream",
     "text": [
      "4863/4863 [==============================] - 0s 65us/sample - loss: 0.3676 - val_loss: 0.4452\n",
      "Epoch 78/100\n",
      "4863/4863 [==============================] - 0s 64us/sample - loss: 0.3670 - val_loss: 0.4453\n",
      "Epoch 79/100\n",
      "4863/4863 [==============================] - 0s 64us/sample - loss: 0.3664 - val_loss: 0.4455\n",
      "Epoch 80/100\n",
      "4863/4863 [==============================] - 0s 64us/sample - loss: 0.3658 - val_loss: 0.4456\n",
      "Epoch 81/100\n",
      "4863/4863 [==============================] - 0s 64us/sample - loss: 0.3653 - val_loss: 0.4458\n",
      "Epoch 82/100\n",
      "4863/4863 [==============================] - 0s 64us/sample - loss: 0.3647 - val_loss: 0.4460\n",
      "Epoch 83/100\n",
      "4863/4863 [==============================] - 0s 72us/sample - loss: 0.3642 - val_loss: 0.4461\n",
      "Epoch 84/100\n",
      "4863/4863 [==============================] - 0s 63us/sample - loss: 0.3636 - val_loss: 0.4463\n",
      "Epoch 85/100\n",
      "4863/4863 [==============================] - 0s 64us/sample - loss: 0.3631 - val_loss: 0.4465\n",
      "Epoch 86/100\n",
      "4863/4863 [==============================] - 0s 63us/sample - loss: 0.3626 - val_loss: 0.4467\n",
      "Epoch 87/100\n",
      "4863/4863 [==============================] - 0s 64us/sample - loss: 0.3621 - val_loss: 0.4469\n",
      "Epoch 88/100\n",
      "4863/4863 [==============================] - 0s 64us/sample - loss: 0.3615 - val_loss: 0.4471\n",
      "Epoch 89/100\n",
      "4863/4863 [==============================] - 0s 65us/sample - loss: 0.3611 - val_loss: 0.4473\n",
      "Epoch 90/100\n",
      "4863/4863 [==============================] - 0s 64us/sample - loss: 0.3606 - val_loss: 0.4475\n",
      "Epoch 91/100\n",
      "4863/4863 [==============================] - 0s 64us/sample - loss: 0.3601 - val_loss: 0.4477\n",
      "Epoch 92/100\n",
      "4863/4863 [==============================] - 0s 62us/sample - loss: 0.3596 - val_loss: 0.4479\n",
      "Epoch 93/100\n",
      "4863/4863 [==============================] - 0s 61us/sample - loss: 0.3591 - val_loss: 0.4481\n",
      "Epoch 94/100\n",
      "4863/4863 [==============================] - 0s 65us/sample - loss: 0.3587 - val_loss: 0.4484\n",
      "Epoch 95/100\n",
      "4863/4863 [==============================] - 0s 64us/sample - loss: 0.3582 - val_loss: 0.4486\n",
      "Epoch 96/100\n",
      "4863/4863 [==============================] - 0s 68us/sample - loss: 0.3578 - val_loss: 0.4488\n",
      "Epoch 97/100\n",
      "4863/4863 [==============================] - 0s 64us/sample - loss: 0.3574 - val_loss: 0.4491\n",
      "Epoch 98/100\n",
      "4863/4863 [==============================] - 0s 63us/sample - loss: 0.3569 - val_loss: 0.4493\n",
      "Epoch 99/100\n",
      "4863/4863 [==============================] - 0s 63us/sample - loss: 0.3565 - val_loss: 0.4495\n",
      "Epoch 100/100\n",
      "4863/4863 [==============================] - 0s 63us/sample - loss: 0.3561 - val_loss: 0.4498\n"
     ]
    }
   ],
   "source": [
    "question_model = func.train_model(question_model, X_train_question, y_train_question, X_test_question,\n",
    "                                  y_test_question, batch_size=64, nb_epoch=100, verbose=1)"
   ]
  },
  {
   "cell_type": "code",
   "execution_count": 18,
   "metadata": {
    "ExecuteTime": {
     "end_time": "2020-02-01T19:37:46.054988Z",
     "start_time": "2020-02-01T19:37:45.320210Z"
    }
   },
   "outputs": [
    {
     "data": {
      "text/plain": [
       "0.6636870012671393"
      ]
     },
     "execution_count": 18,
     "metadata": {},
     "output_type": "execute_result"
    }
   ],
   "source": [
    "func.spearman_corr(y_train_question, question_model.predict(X_train_question.toarray()))"
   ]
  },
  {
   "cell_type": "code",
   "execution_count": 17,
   "metadata": {
    "ExecuteTime": {
     "end_time": "2020-02-01T19:37:14.706725Z",
     "start_time": "2020-02-01T19:37:14.468499Z"
    }
   },
   "outputs": [
    {
     "data": {
      "text/plain": [
       "0.31949589982895704"
      ]
     },
     "execution_count": 17,
     "metadata": {},
     "output_type": "execute_result"
    }
   ],
   "source": [
    "func.spearman_corr(y_test_question, question_model.predict(X_test_question.toarray()))"
   ]
  },
  {
   "cell_type": "markdown",
   "metadata": {},
   "source": [
    "# Submission"
   ]
  },
  {
   "cell_type": "code",
   "execution_count": 28,
   "metadata": {
    "ExecuteTime": {
     "end_time": "2020-02-01T19:45:13.684026Z",
     "start_time": "2020-02-01T19:45:13.596026Z"
    }
   },
   "outputs": [],
   "source": [
    "df_test = func.prepareData(df_dict['test.csv'])"
   ]
  },
  {
   "cell_type": "code",
   "execution_count": 29,
   "metadata": {
    "ExecuteTime": {
     "end_time": "2020-02-01T19:45:15.639735Z",
     "start_time": "2020-02-01T19:45:14.745389Z"
    }
   },
   "outputs": [],
   "source": [
    "question_X = question_vectorizer.transform(df_test.question_text_clean)\n",
    "\n",
    "answer_X = answer_vectorizer.transform(df_test.answer_text_clean)"
   ]
  },
  {
   "cell_type": "code",
   "execution_count": 30,
   "metadata": {
    "ExecuteTime": {
     "end_time": "2020-02-01T19:45:16.068755Z",
     "start_time": "2020-02-01T19:45:15.860787Z"
    }
   },
   "outputs": [],
   "source": [
    "sub = func.make_submission_df(df_dict['sample_submission.csv'],\n",
    "                              question_X.toarray(), answer_X.toarray(),\n",
    "                              question_model, answer_model)"
   ]
  },
  {
   "cell_type": "code",
   "execution_count": null,
   "metadata": {},
   "outputs": [],
   "source": []
  }
 ],
 "metadata": {
  "kernelspec": {
   "display_name": "Python [conda env:parquinho] *",
   "language": "python",
   "name": "conda-env-parquinho-py"
  },
  "language_info": {
   "codemirror_mode": {
    "name": "ipython",
    "version": 3
   },
   "file_extension": ".py",
   "mimetype": "text/x-python",
   "name": "python",
   "nbconvert_exporter": "python",
   "pygments_lexer": "ipython3",
   "version": "3.7.6"
  },
  "varInspector": {
   "cols": {
    "lenName": 16,
    "lenType": 16,
    "lenVar": 40
   },
   "kernels_config": {
    "python": {
     "delete_cmd_postfix": "",
     "delete_cmd_prefix": "del ",
     "library": "var_list.py",
     "varRefreshCmd": "print(var_dic_list())"
    },
    "r": {
     "delete_cmd_postfix": ") ",
     "delete_cmd_prefix": "rm(",
     "library": "var_list.r",
     "varRefreshCmd": "cat(var_dic_list()) "
    }
   },
   "types_to_exclude": [
    "module",
    "function",
    "builtin_function_or_method",
    "instance",
    "_Feature"
   ],
   "window_display": false
  }
 },
 "nbformat": 4,
 "nbformat_minor": 2
}
